{
 "cells": [
  {
   "cell_type": "markdown",
   "metadata": {
    "colab_type": "text",
    "id": "i_f5u2x9nn6I",
    "slideshow": {
     "slide_type": "slide"
    }
   },
   "source": [
    "<left><img width=25% src=\"img/gw_monogram_2c.png\"></left>\n",
    "\n",
    "# Lecture 4: Classification and Logistic Regression\n",
    "\n",
    "### ECE6210 Machine Intelligence\n",
    "\n",
    "__Armin Mehrabian__<br>The George Washington Universiry"
   ]
  },
  {
   "cell_type": "markdown",
   "metadata": {
    "slideshow": {
     "slide_type": "slide"
    }
   },
   "source": [
    "# Announcements\n",
    "\n",
    "* Start thinking about you final project"
   ]
  },
  {
   "cell_type": "markdown",
   "metadata": {
    "slideshow": {
     "slide_type": "slide"
    }
   },
   "source": [
    "# Part 1: Classification\n",
    "\n",
    "So far, every supervised learning algorithm that we've seen has been an instance of regression.\n",
    "\n",
    "We will next look at classification. First, let's define what classification is."
   ]
  },
  {
   "cell_type": "markdown",
   "metadata": {
    "colab_type": "text",
    "id": "08ka9qHWnn6J",
    "slideshow": {
     "slide_type": "skip"
    }
   },
   "source": [
    "# Review: Components of a Supervised Machine Learning Problem\n",
    "\n",
    "To apply supervised learning, we define a dataset and a learning algorithm.\n",
    "\n",
    "$$ \\underbrace{\\text{Dataset}}_\\text{Features, Attributes, Targets} + \\underbrace{\\text{Learning Algorithm}}_\\text{Model Class + Objective + Optimizer } \\to \\text{Predictive Model} $$\n",
    "\n",
    "The output is a predictive model that maps inputs to targets. For instance, it can predict targets on new inputs."
   ]
  },
  {
   "cell_type": "markdown",
   "metadata": {
    "slideshow": {
     "slide_type": "slide"
    }
   },
   "source": [
    "# Review: Regression vs. Classification\n",
    "\n",
    "Consider a training dataset $\\mathcal{D} = \\{(x^{(1)}, y^{(1)}), (x^{(2)}, y^{(2)}), \\ldots, (x^{(n)}, y^{(n)})\\}$.\n",
    "\n",
    "We distinguish between two types of supervised learning problems depnding on the targets $y^{(i)}$. \n"
   ]
  },
  {
   "cell_type": "markdown",
   "metadata": {
    "slideshow": {
     "slide_type": "fragment"
    }
   },
   "source": [
    "1. __Regression__: The target variable $y \\in \\mathcal{Y}$ is continuous:  $\\mathcal{Y} \\subseteq \\mathbb{R}$.\n"
   ]
  },
  {
   "cell_type": "markdown",
   "metadata": {
    "slideshow": {
     "slide_type": "fragment"
    }
   },
   "source": [
    "2. __Classification__: The target variable $y$ is discrete and takes on one of $K$ possible values:  $\\mathcal{Y} = \\{y_1, y_2, \\ldots y_K\\}$. Each discrete value corresponds to a *class* that we want to predict."
   ]
  },
  {
   "cell_type": "markdown",
   "metadata": {
    "slideshow": {
     "slide_type": "slide"
    }
   },
   "source": [
    "# Binary Classification\n",
    "\n",
    "An important special case of classification is when the number of classes $K=2$.\n",
    "\n",
    "In this case, we have an instance of a *binary classification* problem."
   ]
  },
  {
   "cell_type": "markdown",
   "metadata": {
    "slideshow": {
     "slide_type": "slide"
    }
   },
   "source": [
    "# Classification Dataset: Iris Flowers\n",
    "\n",
    "To demonstrate classification algorithms, we are going to use the Iris flower dataset. \n",
    "\n",
    "It's a classical dataset originally published by [R. A. Fisher](https://en.wikipedia.org/wiki/Ronald_Fisher) in 1936. Nowadays, it's widely used for demonstrating machine learning algorithms."
   ]
  },
  {
   "cell_type": "markdown",
   "metadata": {
    "slideshow": {
     "slide_type": "slide"
    }
   },
   "source": [
    "## Three flavors of Iris flowers\n",
    "<center><img src=\"img/iris-flowers.png\"/></center>"
   ]
  },
  {
   "cell_type": "code",
   "execution_count": 10,
   "metadata": {
    "slideshow": {
     "slide_type": "subslide"
    }
   },
   "outputs": [
    {
     "name": "stdout",
     "output_type": "stream",
     "text": [
      ".. _iris_dataset:\n",
      "\n",
      "Iris plants dataset\n",
      "--------------------\n",
      "\n",
      "**Data Set Characteristics:**\n",
      "\n",
      "    :Number of Instances: 150 (50 in each of three classes)\n",
      "    :Number of Attributes: 4 numeric, predictive attributes and the class\n",
      "    :Attribute Information:\n",
      "        - sepal length in cm\n",
      "        - sepal width in cm\n",
      "        - petal length in cm\n",
      "        - petal width in cm\n",
      "        - class:\n",
      "                - Iris-Setosa\n",
      "                - Iris-Versicolour\n",
      "                - Iris-Virginica\n",
      "                \n",
      "    :Summary Statistics:\n",
      "\n",
      "    ============== ==== ==== ======= ===== ====================\n",
      "                    Min  Max   Mean    SD   Class Correlation\n",
      "    ============== ==== ==== ======= ===== ====================\n",
      "    sepal length:   4.3  7.9   5.84   0.83    0.7826\n",
      "    sepal width:    2.0  4.4   3.05   0.43   -0.4194\n",
      "    petal length:   1.0  6.9   3.76   1.76    0.9490  (high!)\n",
      "    petal width:    0.1  2.5   1.20   0.76    0.9565  (high!)\n",
      "    ============== ==== ==== ======= ===== ====================\n",
      "\n",
      "    :Missing Attribute Values: None\n",
      "    :Class Distribution: 33.3% for each of 3 classes.\n",
      "    :Creator: R.A. Fisher\n",
      "    :Donor: Michael Marshall (MARSHALL%PLU@io.arc.nasa.gov)\n",
      "    :Date: July, 1988\n",
      "\n",
      "The famous Iris database, first used by Sir R.A. Fisher. The dataset is taken\n",
      "from Fisher's paper. Note that it's the same as in R, but not as in the UCI\n",
      "Machine Learning Repository, which has two wrong data points.\n",
      "\n",
      "This is perhaps the best known database to be found in the\n",
      "pattern recognition literature.  Fisher's paper is a classic in the field and\n",
      "is referenced frequently to this day.  (See Duda & Hart, for example.)  The\n",
      "data set contains 3 classes of 50 instances each, where each class refers to a\n",
      "type of iris plant.  One class is linearly separable from the other 2; the\n",
      "latter are NOT linearly separable from each other.\n",
      "\n",
      ".. topic:: References\n",
      "\n",
      "   - Fisher, R.A. \"The use of multiple measurements in taxonomic problems\"\n",
      "     Annual Eugenics, 7, Part II, 179-188 (1936); also in \"Contributions to\n",
      "     Mathematical Statistics\" (John Wiley, NY, 1950).\n",
      "   - Duda, R.O., & Hart, P.E. (1973) Pattern Classification and Scene Analysis.\n",
      "     (Q327.D83) John Wiley & Sons.  ISBN 0-471-22361-1.  See page 218.\n",
      "   - Dasarathy, B.V. (1980) \"Nosing Around the Neighborhood: A New System\n",
      "     Structure and Classification Rule for Recognition in Partially Exposed\n",
      "     Environments\".  IEEE Transactions on Pattern Analysis and Machine\n",
      "     Intelligence, Vol. PAMI-2, No. 1, 67-71.\n",
      "   - Gates, G.W. (1972) \"The Reduced Nearest Neighbor Rule\".  IEEE Transactions\n",
      "     on Information Theory, May 1972, 431-433.\n",
      "   - See also: 1988 MLC Proceedings, 54-64.  Cheeseman et al\"s AUTOCLASS II\n",
      "     conceptual clustering system finds 3 classes in the data.\n",
      "   - Many, many more ...\n"
     ]
    }
   ],
   "source": [
    "import numpy as np\n",
    "import pandas as pd\n",
    "from sklearn import datasets\n",
    "import warnings\n",
    "warnings.filterwarnings('ignore')\n",
    "\n",
    "# Load the Iris dataset\n",
    "iris = datasets.load_iris(as_frame=True)\n",
    "\n",
    "print(iris.DESCR)"
   ]
  },
  {
   "cell_type": "code",
   "execution_count": 11,
   "metadata": {
    "slideshow": {
     "slide_type": "subslide"
    }
   },
   "outputs": [
    {
     "data": {
      "text/html": [
       "<div>\n",
       "<style scoped>\n",
       "    .dataframe tbody tr th:only-of-type {\n",
       "        vertical-align: middle;\n",
       "    }\n",
       "\n",
       "    .dataframe tbody tr th {\n",
       "        vertical-align: top;\n",
       "    }\n",
       "\n",
       "    .dataframe thead th {\n",
       "        text-align: right;\n",
       "    }\n",
       "</style>\n",
       "<table border=\"1\" class=\"dataframe\">\n",
       "  <thead>\n",
       "    <tr style=\"text-align: right;\">\n",
       "      <th></th>\n",
       "      <th>sepal length (cm)</th>\n",
       "      <th>sepal width (cm)</th>\n",
       "      <th>petal length (cm)</th>\n",
       "      <th>petal width (cm)</th>\n",
       "      <th>target</th>\n",
       "    </tr>\n",
       "  </thead>\n",
       "  <tbody>\n",
       "    <tr>\n",
       "      <th>0</th>\n",
       "      <td>5.1</td>\n",
       "      <td>3.5</td>\n",
       "      <td>1.4</td>\n",
       "      <td>0.2</td>\n",
       "      <td>0</td>\n",
       "    </tr>\n",
       "    <tr>\n",
       "      <th>1</th>\n",
       "      <td>4.9</td>\n",
       "      <td>3.0</td>\n",
       "      <td>1.4</td>\n",
       "      <td>0.2</td>\n",
       "      <td>0</td>\n",
       "    </tr>\n",
       "    <tr>\n",
       "      <th>2</th>\n",
       "      <td>4.7</td>\n",
       "      <td>3.2</td>\n",
       "      <td>1.3</td>\n",
       "      <td>0.2</td>\n",
       "      <td>0</td>\n",
       "    </tr>\n",
       "    <tr>\n",
       "      <th>3</th>\n",
       "      <td>4.6</td>\n",
       "      <td>3.1</td>\n",
       "      <td>1.5</td>\n",
       "      <td>0.2</td>\n",
       "      <td>0</td>\n",
       "    </tr>\n",
       "    <tr>\n",
       "      <th>4</th>\n",
       "      <td>5.0</td>\n",
       "      <td>3.6</td>\n",
       "      <td>1.4</td>\n",
       "      <td>0.2</td>\n",
       "      <td>0</td>\n",
       "    </tr>\n",
       "  </tbody>\n",
       "</table>\n",
       "</div>"
      ],
      "text/plain": [
       "   sepal length (cm)  sepal width (cm)  petal length (cm)  petal width (cm)  \\\n",
       "0                5.1               3.5                1.4               0.2   \n",
       "1                4.9               3.0                1.4               0.2   \n",
       "2                4.7               3.2                1.3               0.2   \n",
       "3                4.6               3.1                1.5               0.2   \n",
       "4                5.0               3.6                1.4               0.2   \n",
       "\n",
       "   target  \n",
       "0       0  \n",
       "1       0  \n",
       "2       0  \n",
       "3       0  \n",
       "4       0  "
      ]
     },
     "execution_count": 11,
     "metadata": {},
     "output_type": "execute_result"
    }
   ],
   "source": [
    "# print part of the dataset\n",
    "iris_X, iris_y = iris.data, iris.target\n",
    "pd.concat([iris_X, iris_y], axis=1).head()"
   ]
  },
  {
   "cell_type": "markdown",
   "metadata": {
    "slideshow": {
     "slide_type": "subslide"
    }
   },
   "source": [
    "Let's visualize this dataset. We first import `matplotlib` and other plotting tools."
   ]
  },
  {
   "cell_type": "code",
   "execution_count": 12,
   "metadata": {
    "slideshow": {
     "slide_type": "fragment"
    }
   },
   "outputs": [],
   "source": [
    "# Code from: https://scikit-learn.org/stable/auto_examples/datasets/plot_iris_dataset.html\n",
    "%matplotlib inline\n",
    "import matplotlib.pyplot as plt\n",
    "from mpl_toolkits.mplot3d import Axes3D\n",
    "from sklearn.decomposition import PCA"
   ]
  },
  {
   "cell_type": "markdown",
   "metadata": {
    "slideshow": {
     "slide_type": "subslide"
    }
   },
   "source": [
    "Here is a visualization of this dataset in 3D. Note that we are using the first 3 features (out of 4) in this dateset."
   ]
  },
  {
   "cell_type": "code",
   "execution_count": 16,
   "metadata": {
    "slideshow": {
     "slide_type": "slide"
    }
   },
   "outputs": [
    {
     "data": {
      "image/png": "[encoded data removed]",
      "text/plain": [
       "<Figure size 800x600 with 1 Axes>"
      ]
     },
     "metadata": {},
     "output_type": "display_data"
    }
   ],
   "source": [
    "# Reduce the dataset to its first three features\n",
    "\n",
    "# let's visualize this dataset\n",
    "fig = plt.figure(1, figsize=(8, 6))\n",
    "ax = fig.add_subplot(111, projection='3d', elev=-150, azim=110)\n",
    "\n",
    "X_reduced = iris_X.to_numpy()[:,:3]\n",
    "\n",
    "\n",
    "ax.set_title(\"3D Projection of the Iris Dataset\")\n",
    "ax.w_xaxis.set_ticklabels([])\n",
    "ax.w_yaxis.set_ticklabels([])\n",
    "ax.set_xlabel(\"Sepal length\")\n",
    "ax.set_ylabel(\"Sepal width\")\n",
    "ax.set_zlabel(\"Petal length\")\n",
    "ax.w_zaxis.set_ticklabels([])\n",
    "\n",
    "# Scatter plot\n",
    "p1 = ax.scatter(X_reduced[:, 0], X_reduced[:, 1], X_reduced[:, 2], c=iris_y,\n",
    "           cmap=plt.cm.Set1, edgecolor='k', s=40)\n",
    "\n",
    "# Scatter plot\n",
    "scatter = ax.scatter(X_reduced[:, 0], X_reduced[:, 1], X_reduced[:, 2], c=iris_y, cmap=plt.cm.Set1, edgecolor='k', s=40)\n",
    "\n",
    "# Creating a custom legend\n",
    "legend_labels = ['Iris Setosa', 'Iris Versicolour', 'Iris Virginica']\n",
    "legend_colors = [scatter.cmap(scatter.norm(0)), scatter.cmap(scatter.norm(1)), scatter.cmap(scatter.norm(2))]\n",
    "plt.legend(handles=p1.legend_elements()[0], labels=['Iris Setosa', 'Iris Versicolour', 'Iris Virginica'])\n",
    "\n",
    "\n",
    "plt.show()"
   ]
  },
  {
   "cell_type": "markdown",
   "metadata": {
    "slideshow": {
     "slide_type": "slide"
    }
   },
   "source": [
    "# Understanding Classification\n",
    "\n",
    "How is clasification different from regression?\n",
    "* In regression, we try to fit a curve through the set of targets $y^{(i)}$."
   ]
  },
  {
   "cell_type": "markdown",
   "metadata": {
    "slideshow": {
     "slide_type": "fragment"
    }
   },
   "source": [
    "* In classification, classes define a partition of the feature space, and our goal is to find the boundaries that separate these regions."
   ]
  },
  {
   "cell_type": "markdown",
   "metadata": {
    "slideshow": {
     "slide_type": "fragment"
    }
   },
   "source": [
    "* Outputs of classification models often have a simple probabilistic interpretation: they are probabilities that a data point belongs to a given class."
   ]
  },
  {
   "cell_type": "markdown",
   "metadata": {
    "slideshow": {
     "slide_type": "subslide"
    }
   },
   "source": [
    "Let's look at our Iris dataset again. Note that we are now only using the first 2 attributes in this dateset."
   ]
  },
  {
   "cell_type": "code",
   "execution_count": null,
   "metadata": {
    "slideshow": {
     "slide_type": "fragment"
    }
   },
   "outputs": [],
   "source": [
    "plt.rcParams['figure.figsize'] = [12, 4]\n",
    "p1 = plt.scatter(iris_X.iloc[:, 0], iris_X.iloc[:, 1], c=iris_y,\n",
    "            edgecolor='k', s=50, cmap=plt.cm.Paired)\n",
    "plt.xlabel('Sepal Length')\n",
    "plt.ylabel('Sepal Width')\n",
    "plt.legend(handles=p1.legend_elements()[0], labels=['Setosa', 'Versicolour', 'Virginica'], loc='lower right')"
   ]
  },
  {
   "cell_type": "markdown",
   "metadata": {
    "slideshow": {
     "slide_type": "subslide"
    }
   },
   "source": [
    "Let's train a classification algorithm on this data.\n",
    "\n",
    "Below, we see the regions predicted to be associated with the blue and non-blue classes and the line between them in the decision boundary."
   ]
  },
  {
   "cell_type": "code",
   "execution_count": null,
   "metadata": {
    "slideshow": {
     "slide_type": "fragment"
    }
   },
   "outputs": [],
   "source": [
    "from matplotlib import pyplot as plt\n",
    "plt.rcParams['figure.figsize'] = [12, 4]\n",
    "from sklearn.linear_model import LogisticRegression\n",
    "logreg = LogisticRegression(C=1e5)\n",
    "\n",
    "# Create an instance of Logistic Regression Classifier and fit the data.\n",
    "X = iris_X.to_numpy()[:,:2]\n",
    "# rename class two to class one\n",
    "Y = iris_y.copy()\n",
    "logreg.fit(X, Y) "
   ]
  },
  {
   "cell_type": "code",
   "execution_count": null,
   "metadata": {
    "slideshow": {
     "slide_type": "fragment"
    }
   },
   "outputs": [],
   "source": [
    "xx, yy = np.meshgrid(np.arange(4, 8.2, .02), np.arange(1.8, 4.5, .02))\n",
    "Z = logreg.predict(np.c_[xx.ravel(), yy.ravel()])\n",
    "\n",
    "# Put the result into a color plot\n",
    "Z = Z.reshape(xx.shape)\n",
    "plt.pcolormesh(xx, yy, Z, cmap=plt.cm.Paired)\n",
    "\n",
    "# Plot also the training points\n",
    "plt.scatter(X[:, 0], X[:, 1], c=Y, edgecolors='k', cmap=plt.cm.Paired, s=50)\n",
    "plt.xlabel('Sepal length')\n",
    "plt.ylabel('Sepal width')\n",
    "\n",
    "plt.show()"
   ]
  },
  {
   "cell_type": "markdown",
   "metadata": {
    "slideshow": {
     "slide_type": "slide"
    }
   },
   "source": [
    "<left><img width=25% src=\"img/gw_monogram_2c.png\"></left>\n",
    "# Part 2: Nearest Neighbors\n",
    "\n",
    "Previously, we have seen what defines a classification problem. Let's now look at our first classification algorithm."
   ]
  },
  {
   "cell_type": "markdown",
   "metadata": {
    "slideshow": {
     "slide_type": "slide"
    }
   },
   "source": [
    "# A Simple Classification Algorithm: Nearest Neighbors\n",
    "\n",
    "Suppose we are given a training dataset $\\mathcal{D} = \\{(x^{(1)}, y^{(1)}), (x^{(2)}, y^{(2)}), \\ldots, (x^{(n)}, y^{(n)})\\}$. At inference time, we receive a query point $x'$ and we want to predict its label $y'$."
   ]
  },
  {
   "cell_type": "markdown",
   "metadata": {
    "slideshow": {
     "slide_type": "fragment"
    }
   },
   "source": [
    "A really simple but suprisingly effective way of returning $y'$ is the *nearest neighbors* approach.\n",
    "* Given a query datapoint $x'$, find the training example $(x, y)$ in $\\mathcal{D}$ that's closest to $x'$, in the sense that $x$ is \"nearest\" to $x'$\n",
    "* Return $y$, the label of the \"nearest neighbor\" $x$."
   ]
  },
  {
   "cell_type": "markdown",
   "metadata": {
    "slideshow": {
     "slide_type": "subslide"
    }
   },
   "source": [
    "In the example below on the Iris dataset, the red cross denotes the query $x'$. The closest class to it is \"Virginica\". (We're only using the first two features in the dataset for simplicity.)"
   ]
  },
  {
   "cell_type": "code",
   "execution_count": null,
   "metadata": {
    "scrolled": true,
    "slideshow": {
     "slide_type": "fragment"
    }
   },
   "outputs": [],
   "source": [
    "import matplotlib.pyplot as plt\n",
    "plt.rcParams['figure.figsize'] = [12, 4]\n",
    "\n",
    "# Plot also the training points\n",
    "p1 = plt.scatter(iris_X.iloc[:, 0], iris_X.iloc[:, 1], c=iris_y,\n",
    "            edgecolor='k', s=50, cmap=plt.cm.Paired)\n",
    "p2 = plt.plot([7.5], [4], 'rx', ms=10, mew=5)\n",
    "plt.xlabel('Sepal Length')\n",
    "plt.ylabel('Sepal Width')\n",
    "plt.legend(['Query Point', 'Training Data'], loc='lower right')\n",
    "plt.legend(handles=p1.legend_elements()[0]+p2, labels=['Setosa', 'Versicolour', 'Virginica', 'Query'], loc='lower right')"
   ]
  },
  {
   "cell_type": "markdown",
   "metadata": {
    "slideshow": {
     "slide_type": "slide"
    }
   },
   "source": [
    "# Choosing a Distance Function\n",
    "\n",
    "How do we select the point $x$ that is the closest to the query point $x'$? There are many options:"
   ]
  },
  {
   "cell_type": "markdown",
   "metadata": {
    "slideshow": {
     "slide_type": "fragment"
    }
   },
   "source": [
    "* The Euclidean distance $|| x - x' ||_2 = \\sqrt{\\sum_{j=1}^d |x_j - x'_j|^2)}$ is a popular choice."
   ]
  },
  {
   "cell_type": "markdown",
   "metadata": {
    "slideshow": {
     "slide_type": "fragment"
    }
   },
   "source": [
    "* The Minkowski distance $|| x - x' ||_p = (\\sum_{j=1}^d |x_j - x'_j|^p)^{1/p}$ generalizes the Euclidean, L1 and other distances."
   ]
  },
  {
   "cell_type": "markdown",
   "metadata": {
    "slideshow": {
     "slide_type": "fragment"
    }
   },
   "source": [
    "* Discrete-valued inputs can be examined via the Hamming distance $|\\{j : x_j \\neq x_j'\\}|$ and other distances."
   ]
  },
  {
   "cell_type": "markdown",
   "metadata": {
    "slideshow": {
     "slide_type": "subslide"
    }
   },
   "source": [
    "Let's apply Nearest Neighbors to the above dataset using the Euclidean distance (or equiavalently, Minkowski with $p=2$)"
   ]
  },
  {
   "cell_type": "code",
   "execution_count": null,
   "metadata": {
    "slideshow": {
     "slide_type": "fragment"
    }
   },
   "outputs": [],
   "source": [
    "# https://scikit-learn.org/stable/auto_examples/neighbors/plot_classification.html\n",
    "from sklearn import neighbors\n",
    "from matplotlib.colors import ListedColormap\n",
    "\n",
    "# Train a Nearest Neighbors Model\n",
    "clf = neighbors.KNeighborsClassifier(n_neighbors=1, metric='minkowski', p=2)\n",
    "clf.fit(iris_X.iloc[:,:2], iris_y)\n",
    "\n",
    "# Create color maps\n",
    "cmap_light = ListedColormap(['orange', 'cyan', 'cornflowerblue'])\n",
    "cmap_bold = ListedColormap(['darkorange', 'c', 'darkblue'])\n",
    "\n",
    "# Plot the decision boundary. For that, we will assign a color to each\n",
    "# point in the mesh [x_min, x_max]x[y_min, y_max].\n",
    "x_min, x_max = iris_X.iloc[:, 0].min() - 1, iris_X.iloc[:, 0].max() + 1\n",
    "y_min, y_max = iris_X.iloc[:, 1].min() - 1, iris_X.iloc[:, 1].max() + 1\n",
    "xx, yy = np.meshgrid(np.arange(x_min, x_max, 0.02),\n",
    "                     np.arange(y_min, y_max, 0.02))\n",
    "Z = clf.predict(np.c_[xx.ravel(), yy.ravel()])\n",
    "\n",
    "# Put the result into a color plot\n",
    "Z = Z.reshape(xx.shape)\n",
    "plt.figure()\n",
    "plt.pcolormesh(xx, yy, Z, cmap=cmap_light)\n",
    "\n",
    "# Plot also the training points\n",
    "plt.scatter(iris_X.iloc[:, 0], iris_X.iloc[:, 1], c=iris_y, cmap=cmap_bold,\n",
    "            edgecolor='k', s=60)\n",
    "plt.xlim(xx.min(), xx.max())\n",
    "plt.ylim(yy.min(), yy.max())\n",
    "\n",
    "plt.xlabel('Sepal Length')\n",
    "plt.ylabel('Sepal Width')"
   ]
  },
  {
   "cell_type": "markdown",
   "metadata": {
    "slideshow": {
     "slide_type": "subslide"
    }
   },
   "source": [
    "In the above example, the regions of the 2D space that are assigned to each class are highly irregular. In areas where the two classes overlap, the decision of the boundary flips between the classes, depending on which point is closest to it."
   ]
  },
  {
   "cell_type": "markdown",
   "metadata": {
    "slideshow": {
     "slide_type": "slide"
    }
   },
   "source": [
    "# K-Nearest Neighbors\n",
    "\n",
    "Intuitively, we expect the true decision boundary to be smooth. Therefore, we average $K$ nearest neighbors at a query point."
   ]
  },
  {
   "cell_type": "markdown",
   "metadata": {
    "slideshow": {
     "slide_type": "fragment"
    }
   },
   "source": [
    "* Given a query datapoint $x'$, find the $K$ training examples $\\mathcal{N} = \\{(x^{(1)}, y^{(1)}), (x^{(2)}, y^{(2)}), \\ldots, (x^{(K)}, y^{(K)})\\} \\subseteq D$ that are closest to $x'$.\n",
    "* Return $y_\\mathcal{N}$, the consensus label of the neighborhood $\\mathcal{N}$.\n",
    "\n",
    "The consesus $y_\\mathcal{N}$ can be determined by voting, weighted average, etc."
   ]
  },
  {
   "cell_type": "markdown",
   "metadata": {
    "slideshow": {
     "slide_type": "subslide"
    }
   },
   "source": [
    "Let's look at Nearest Neighbors with a neighborhood of 30. The decision boundary is much smoother than before."
   ]
  },
  {
   "cell_type": "code",
   "execution_count": null,
   "metadata": {
    "slideshow": {
     "slide_type": "fragment"
    }
   },
   "outputs": [],
   "source": [
    "# https://scikit-learn.org/stable/auto_examples/neighbors/plot_classification.html\n",
    "# Train a Nearest Neighbors Model\n",
    "clf = neighbors.KNeighborsClassifier(n_neighbors=30, metric='minkowski', p=2)\n",
    "clf.fit(iris_X.iloc[:,:2], iris_y)\n",
    "Z = clf.predict(np.c_[xx.ravel(), yy.ravel()])\n",
    "\n",
    "# Put the result into a color plot\n",
    "Z = Z.reshape(xx.shape)\n",
    "plt.figure()\n",
    "plt.pcolormesh(xx, yy, Z, cmap=cmap_light)\n",
    "\n",
    "# Plot also the training points\n",
    "plt.scatter(iris_X.iloc[:, 0], iris_X.iloc[:, 1], c=iris_y, cmap=cmap_bold,\n",
    "            edgecolor='k', s=60)\n",
    "plt.xlim(xx.min(), xx.max())\n",
    "plt.ylim(yy.min(), yy.max())\n",
    "\n",
    "plt.xlabel('Sepal Length')\n",
    "plt.ylabel('Sepal Width')"
   ]
  },
  {
   "cell_type": "markdown",
   "metadata": {
    "slideshow": {
     "slide_type": "slide"
    }
   },
   "source": [
    "# Algorithm: K-Nearest Neighbors\n",
    "\n",
    "* __Type__: Supervised learning (regression and classification)\n",
    "* __Model family__: Consensus over $K$ training instances.\n",
    "* __Objective function__: Euclidean, Minkowski, Hamming, etc.\n",
    "* __Optimizer__: Non at training. Nearest neighbor search at inference using specialized search algorithms.\n",
    "* __Probabilistic interpretation__: Directly approximating the density $P_\\text{data}(y|x)$."
   ]
  },
  {
   "cell_type": "markdown",
   "metadata": {
    "slideshow": {
     "slide_type": "slide"
    }
   },
   "source": [
    "# Pros and Cons of KNN\n",
    "\n",
    "Pros:\n",
    "* Can approximate any data distribution arbtrarily well.\n",
    "\n",
    "Cons:\n",
    "* Need to store entire dataset to make queries, which is computationally prohibitive.\n",
    "* Number of data needed scale exponentially with dimension (\"curse of dimensionality\")."
   ]
  },
  {
   "cell_type": "markdown",
   "metadata": {
    "slideshow": {
     "slide_type": "slide"
    }
   },
   "source": [
    "<left><img width=25% src=\"img/gw_monogram_2c.png\"></left>\n",
    "\n",
    "\n",
    "# Part 3: Logistic Regression\n",
    "\n",
    "Next, we are going to see our first classification algorithm: logistic regression."
   ]
  },
  {
   "cell_type": "markdown",
   "metadata": {
    "slideshow": {
     "slide_type": "skip"
    }
   },
   "source": [
    "# Review: Classification\n",
    "\n",
    "Consider a training dataset $\\mathcal{D} = \\{(x^{(1)}, y^{(1)}), (x^{(2)}, y^{(2)}), \\ldots, (x^{(n)}, y^{(n)})\\}$.\n",
    "\n",
    "We distinguish between two types of supervised learning problems depnding on the targets $y^{(i)}$. \n",
    "\n",
    "1. __Regression__: The target variable $y \\in \\mathcal{Y}$ is continuous:  $\\mathcal{Y} \\subseteq \\mathbb{R}$.\n",
    "2. __Classification__: The target variable $y$ is discrete and takes on one of $K$ possible values:  $\\mathcal{Y} = \\{y_1, y_2, \\ldots y_K\\}$. Each discrete value corresponds to a *class* that we want to predict."
   ]
  },
  {
   "cell_type": "markdown",
   "metadata": {
    "slideshow": {
     "slide_type": "slide"
    }
   },
   "source": [
    "# Binary Classification and the Iris Dataset\n",
    "\n",
    "We will to start by looking at binary (two-class) classification. \n",
    "\n",
    "To keep things simple, we will use the Iris dataset. We will attempt to distinguish class 0 (Iris Setosa) from the other two classes."
   ]
  },
  {
   "cell_type": "markdown",
   "metadata": {
    "slideshow": {
     "slide_type": "subslide"
    }
   },
   "source": [
    "We only use the first two features in the dataset. Our task is to tell apart Setosa flowers from non-Setosa flowers."
   ]
  },
  {
   "cell_type": "code",
   "execution_count": null,
   "metadata": {
    "slideshow": {
     "slide_type": "fragment"
    }
   },
   "outputs": [],
   "source": [
    "# rename class two to class one\n",
    "iris_y2 = iris_y.copy()\n",
    "iris_y2[iris_y2==2] = 1\n",
    "\n",
    "# Plot also the training points\n",
    "p1 = plt.scatter(iris_X.iloc[:, 0], iris_X.iloc[:, 1], c=iris_y2,\n",
    "            edgecolor='k', s=60, cmap=plt.cm.Paired)\n",
    "plt.xlabel('Sepal Length')\n",
    "plt.ylabel('Sepal Width')\n",
    "plt.legend(handles=p1.legend_elements()[0], labels=['Setosa', 'Non-Setosa'], loc='lower right')"
   ]
  },
  {
   "cell_type": "markdown",
   "metadata": {
    "slideshow": {
     "slide_type": "slide"
    }
   },
   "source": [
    "# Review: Least Squares\n",
    "\n",
    "Recall that the linear regression algorithm fits a linear model of the form\n",
    "$$ f(x) = \\sum_{j=0}^d \\theta_j \\cdot x_j = \\theta^\\top x. $$"
   ]
  },
  {
   "cell_type": "markdown",
   "metadata": {
    "slideshow": {
     "slide_type": "fragment"
    }
   },
   "source": [
    "It minimizes the mean squared error (MSE)\n",
    "$$J(\\theta)= \\frac{1}{2n} \\sum_{i=1}^n(y^{(i)}-\\theta^\\top x^{(i)})^2$$\n",
    "on a dataset $\\{(x^{(1)}, y^{(1)}), (x^{(2)}, y^{(2)}), \\ldots, (x^{(n)}, y^{(n)})\\}$."
   ]
  },
  {
   "cell_type": "markdown",
   "metadata": {
    "slideshow": {
     "slide_type": "subslide"
    }
   },
   "source": [
    "We could use least squares to solve our classification problem, setting $\\mathcal{Y} = \\{0, 1\\}$."
   ]
  },
  {
   "cell_type": "code",
   "execution_count": null,
   "metadata": {
    "slideshow": {
     "slide_type": "fragment"
    }
   },
   "outputs": [],
   "source": [
    "# https://scikit-learn.org/stable/auto_examples/linear_model/plot_iris_logistic.html   \n",
    "from sklearn.linear_model import LinearRegression\n",
    "linreg = LinearRegression()\n",
    "\n",
    "# Fit the data.\n",
    "X = iris_X.to_numpy()[:,:2]\n",
    "Y = iris_y2\n",
    "linreg.fit(X, Y)"
   ]
  },
  {
   "cell_type": "markdown",
   "metadata": {
    "slideshow": {
     "slide_type": "subslide"
    }
   },
   "source": [
    "Ordinary least squares returns a decision boundary that is not unreasonable."
   ]
  },
  {
   "cell_type": "code",
   "execution_count": null,
   "metadata": {
    "slideshow": {
     "slide_type": "fragment"
    }
   },
   "outputs": [],
   "source": [
    "# Plot the decision boundary. For that, we will assign a color to each\n",
    "# point in the mesh [x_min, x_max]x[y_min, y_max].\n",
    "x_min, x_max = X[:, 0].min() - .5, X[:, 0].max() + .5\n",
    "y_min, y_max = X[:, 1].min() - .5, X[:, 1].max() + .5\n",
    "h = .02  # step size in the mesh\n",
    "xx, yy = np.meshgrid(np.arange(x_min, x_max, h), np.arange(y_min, y_max, h))\n",
    "Z = linreg.predict(np.c_[xx.ravel(), yy.ravel()])\n",
    "Z[Z>0.5] = 1\n",
    "Z[Z<0.5] = 0\n",
    "\n",
    "# Put the result into a color plot\n",
    "Z = Z.reshape(xx.shape)\n",
    "plt.pcolormesh(xx, yy, Z, cmap=plt.cm.Paired)\n",
    "\n",
    "# Plot also the training points\n",
    "plt.scatter(X[:, 0], X[:, 1], c=Y, edgecolors='k', cmap=plt.cm.Paired, s=60)\n",
    "plt.xlabel('Sepal length')\n",
    "plt.ylabel('Sepal width')\n",
    "\n",
    "plt.show()"
   ]
  },
  {
   "cell_type": "markdown",
   "metadata": {
    "slideshow": {
     "slide_type": "subslide"
    }
   },
   "source": [
    "However, applying ordinary least squares is problematic for a few reasons.\n",
    "* There is nothing to prevent outputs larger than one or smaller than zero, which is conceptually wrong\n",
    "* We also don't have optimal performance: at least one point is misclassified, and others are too close to the decision boundary."
   ]
  },
  {
   "cell_type": "markdown",
   "metadata": {
    "slideshow": {
     "slide_type": "slide"
    }
   },
   "source": [
    "# The Logistic Function\n",
    "\n",
    "To address the fact that the output of linear regression is not in $[0,1]$, we will instead attempt to *squeeze* it into that range using\n",
    "$$ \\sigma(z) = \\frac{1}{1 + \\exp(-z)}. $$\n",
    "This is known as the *sigmoid* or *logistic* function."
   ]
  },
  {
   "cell_type": "markdown",
   "metadata": {
    "slideshow": {
     "slide_type": "subslide"
    }
   },
   "source": [
    "The logistic function $\\sigma : \\mathbb{R} \\to [0,1]$ \"squeezes\" points from the real line into $[0,1]$."
   ]
  },
  {
   "cell_type": "code",
   "execution_count": null,
   "metadata": {
    "slideshow": {
     "slide_type": "fragment"
    }
   },
   "outputs": [],
   "source": [
    "import numpy as np\n",
    "from matplotlib import pyplot as plt\n",
    "\n",
    "def sigmoid(z):\n",
    "    return 1/(1+np.exp(-z))\n",
    "\n",
    "z = np.linspace(-5, 5)\n",
    "plt.plot(z, sigmoid(z))"
   ]
  },
  {
   "cell_type": "markdown",
   "metadata": {
    "slideshow": {
     "slide_type": "slide"
    }
   },
   "source": [
    "# The Logistic Function: Properties\n",
    "\n",
    "The sigmoid function is defined as\n",
    "$$ \\sigma(z) = \\frac{1}{1 + \\exp(-z)}. $$\n",
    "A few observations:"
   ]
  },
  {
   "cell_type": "markdown",
   "metadata": {
    "slideshow": {
     "slide_type": "fragment"
    }
   },
   "source": [
    "* The function tends to 1 as $z \\to \\infty$ and tends to 0 as $z \\to -\\infty$."
   ]
  },
  {
   "cell_type": "markdown",
   "metadata": {
    "slideshow": {
     "slide_type": "fragment"
    }
   },
   "source": [
    "* Thus, models of the form $\\sigma(\\theta^\\top x)$ output values between 0 and 1, which is suitable for binary classification."
   ]
  },
  {
   "cell_type": "markdown",
   "metadata": {
    "slideshow": {
     "slide_type": "fragment"
    }
   },
   "source": [
    "* It is easy to show that the derivative of $\\sigma(z)$ has a simple form:\n",
    "$\\frac{d\\sigma}{dz} = \\sigma(z)(1-\\sigma(z)).$"
   ]
  },
  {
   "cell_type": "markdown",
   "metadata": {
    "slideshow": {
     "slide_type": "slide"
    }
   },
   "source": [
    "# Logistic Regression: Model Class\n",
    "\n",
    "Logistic regression is a classification algorithm which uses a model $f_\\theta$ of the form\n",
    "$$ f_\\theta(x) = \\sigma(\\theta^\\top x) = \\frac{1}{1 + \\exp(-\\theta^\\top x)}, $$\n",
    "where \n",
    "$$ \\sigma(z) = \\frac{1}{1 + \\exp(-z)} $$\n",
    "is the *sigmoid* or *logistic* function."
   ]
  },
  {
   "cell_type": "markdown",
   "metadata": {
    "slideshow": {
     "slide_type": "subslide"
    }
   },
   "source": [
    "Note that logistic regression is actually a binary __classification__ algorithm.\n",
    "\n",
    "The term *regression* is an unfortunate historical misnomer."
   ]
  },
  {
   "cell_type": "markdown",
   "metadata": {
    "slideshow": {
     "slide_type": "subslide"
    }
   },
   "source": [
    "Let's implement a logistic regression model in `numpy`."
   ]
  },
  {
   "cell_type": "code",
   "execution_count": null,
   "metadata": {
    "slideshow": {
     "slide_type": "fragment"
    }
   },
   "outputs": [],
   "source": [
    "def f(X, theta):\n",
    "    \"\"\"The sigmoid model we are trying to fit.\n",
    "    \n",
    "    Parameters:\n",
    "    theta (np.array): d-dimensional vector of parameters\n",
    "    X (np.array): (n,d)-dimensional data matrix\n",
    "    \n",
    "    Returns:\n",
    "    y_pred (np.array): n-dimensional vector of predicted targets\n",
    "    \"\"\"\n",
    "    return sigmoid(X.dot(theta))"
   ]
  },
  {
   "cell_type": "markdown",
   "metadata": {
    "slideshow": {
     "slide_type": "skip"
    }
   },
   "source": [
    "# Probabilistic Interpretations\n",
    "\n",
    "The logistic model can be interpreted to output a probability, and defines a conditional probability distribution as follows:\n",
    "\n",
    "\\begin{align*}\n",
    "P_\\theta(y=1 | x) & = \\sigma(\\theta^\\top x) \\\\\n",
    "P_\\theta(y=0 | x) & = 1-\\sigma(\\theta^\\top x).\n",
    "\\end{align*}\n",
    "\n",
    "Recall that a probability over $y\\in \\{0,1\\}$ is called Bernoulli."
   ]
  },
  {
   "cell_type": "markdown",
   "metadata": {
    "slideshow": {
     "slide_type": "slide"
    }
   },
   "source": [
    "<left><img width=25% src=\"img/gw_monogram_2c.png\"></left>\n",
    "# Part 3: Maximum Likelihood\n",
    "\n",
    "In order to train a logistic regression model, we need to define an objective.\n",
    "\n",
    "We derive this objective using the principle of maximum likelihood."
   ]
  },
  {
   "cell_type": "markdown",
   "metadata": {
    "slideshow": {
     "slide_type": "slide"
    }
   },
   "source": [
    "# Recall: Supervised Learning Models\n",
    "\n",
    "A supervised learning model is a function\n",
    "$$ f_\\theta : \\underbrace{\\mathcal{X}}_\\text{input} \\to \\underbrace{\\mathcal{Y}}_\\text{output} $$\n",
    "that maps inputs $x \\in \\mathcal{X}$ to targets $y \\in \\mathcal{Y}$.\n",
    "\n",
    "Models have *parameters* $\\theta \\in \\Theta$ living in a set $\\Theta$."
   ]
  },
  {
   "cell_type": "markdown",
   "metadata": {
    "slideshow": {
     "slide_type": "slide"
    }
   },
   "source": [
    "# Probabilistic Supervised Learning Models\n",
    "\n",
    "A probabilistic supervised learning model has the form\n",
    "\n",
    "$$ f_\\theta : \\underbrace{\\mathcal{X}}_\\text{input} \\to \\underbrace{(\\mathcal{Y} \\to [0,1])}_\\text{probability P(y|x) over $\\mathcal{Y}$} $$ \n",
    "\n",
    "and maps inputs $x \\in \\mathcal{X}$ to a *conditional probability* $P(y|x) : \\mathcal{Y} \\to [0,1]$ over targets $y \\in \\mathcal{Y}$, where the conditioning is on $x$.\n",
    "\n",
    "The model also has *parameters* $\\theta \\in \\Theta$ living in a set $\\Theta$."
   ]
  },
  {
   "cell_type": "markdown",
   "metadata": {
    "slideshow": {
     "slide_type": "subslide"
    }
   },
   "source": [
    "For example, our logistic model $f_\\theta$ defines (\"parameterizes\") a probability distribution $P_\\theta(y|x)$ as follows:\n",
    "\n",
    "\\begin{align*}\n",
    "P_\\theta(y=1 | x) & = \\sigma(\\theta^\\top x) \\\\\n",
    "P_\\theta(y=0 | x) & = 1-\\sigma(\\theta^\\top x).\n",
    "\\end{align*}\n",
    "\n",
    "For each $x$, $P_\\theta(y|x)$ is a valid probability over $y \\in \\{0,1\\}$."
   ]
  },
  {
   "cell_type": "markdown",
   "metadata": {
    "slideshow": {
     "slide_type": "subslide"
    }
   },
   "source": [
    "We usually use the following notation to denote probabilistic models:\n",
    "\n",
    "\\begin{align*}\n",
    "P_\\theta(y|x) : \\mathcal{X} \\to \\underbrace{(\\mathcal{Y} \\to [0,1])}_\\text{probability $P(y|x)$ over $\\mathcal{Y}$}.\n",
    "\\end{align*}"
   ]
  },
  {
   "cell_type": "markdown",
   "metadata": {
    "slideshow": {
     "slide_type": "subslide"
    }
   },
   "source": [
    "You can view such models as directly parameterizing a conditional probability $P_\\theta(y|x)$ using parameters $\\theta$:\n",
    "* Given an $x$, we have a formula for $P_\\theta(y|x)$ as a function of $x$ and $\\theta$.\n",
    "* The formula assigns higher probabilities (\"scores\") to more likely $y$.\n",
    "* These scores sum to 1 over all $y$, hence they're valid probabilities."
   ]
  },
  {
   "cell_type": "markdown",
   "metadata": {
    "slideshow": {
     "slide_type": "slide"
    }
   },
   "source": [
    "# Probability Refresher"
   ]
  },
  {
   "cell_type": "markdown",
   "metadata": {
    "slideshow": {
     "slide_type": "fragment"
    }
   },
   "source": [
    "**Joint Probability:** The probability of two or more events happening simultaneously. $P(A \\cap B)$ or  $P(A, B)$"
   ]
  },
  {
   "cell_type": "markdown",
   "metadata": {
    "slideshow": {
     "slide_type": "fragment"
    }
   },
   "source": [
    "**Marginal Probability:** Marginal probability $P(A)$ or $P(B)$ is the probability of a single event regardless of the outcome of another;\n",
    "* If the random variable A is independent, then its marginal probability is the probability of the event directly\n",
    "* Otherwise, if the variable A is dependent upon other variables, then the marginal probability is the probability of the event summed over all outcomes for the dependent variables, called the sum rule\n"
   ]
  },
  {
   "cell_type": "markdown",
   "metadata": {
    "slideshow": {
     "slide_type": "fragment"
    }
   },
   "source": [
    "**Conditional Probability:** The probability of one (or more) event given the occurrence of another event, e.g., $ P(A|B)$ or $P(B|A)$ \n"
   ]
  },
  {
   "cell_type": "markdown",
   "metadata": {
    "slideshow": {
     "slide_type": "slide"
    }
   },
   "source": [
    "# Probability Refresher"
   ]
  },
  {
   "cell_type": "markdown",
   "metadata": {
    "slideshow": {
     "slide_type": "fragment"
    }
   },
   "source": [
    "The **joint probability** can be calculated using the conditional probability: \n",
    "\n",
    "$$P(A \\cap B) = P(A,B) = P(A|B) \\times P(B) = P(B|A) \\times P(A)$$\n"
   ]
  },
  {
   "cell_type": "markdown",
   "metadata": {
    "slideshow": {
     "slide_type": "fragment"
    }
   },
   "source": [
    "Similarly:\n",
    "$$P(A|B) = \\frac{P(A \\cap B)}{P(B)} = \\frac{P(B|A) \\times P(A)}{P(B)}$$"
   ]
  },
  {
   "cell_type": "code",
   "execution_count": null,
   "metadata": {
    "slideshow": {
     "slide_type": "slide"
    }
   },
   "outputs": [],
   "source": [
    "import numpy as np\n",
    "import matplotlib.pyplot as plt\n",
    "from mpl_toolkits.mplot3d import Axes3D\n",
    "from scipy.stats import norm, expon\n",
    "\n",
    "# Create data\n",
    "x_values = np.linspace(-5, 5, 50)\n",
    "y_values = np.linspace(0, 5, 50)\n",
    "\n",
    "meshgrid_x, meshgrid_y = np.meshgrid(x_values, y_values)\n",
    "\n",
    "# Create Z using a normal distribution for meshgrid_x and an exponential distribution for meshgrid_y\n",
    "Z = norm.pdf(meshgrid_x, 0, 1) * expon.pdf(meshgrid_y, 0, 1)  # normal distribution for meshgrid_x, exponential for meshgrid_y\n",
    "\n",
    "# Create main 3D plot\n",
    "fig = plt.figure(figsize=(15, 10))\n",
    "\n",
    "ax1 = fig.add_subplot(231, projection='3d')\n",
    "ax1.plot_surface(meshgrid_x, meshgrid_y, Z, cmap='viridis')\n",
    "ax1.set_xlabel('X-axis')\n",
    "ax1.set_ylabel('Y-axis')\n",
    "ax1.set_zlabel('Joint Probability Density')\n",
    "ax1.set_title('Joint Probability Distribution')\n",
    "\n",
    "# Create subplot for the marginal distribution of x_values\n",
    "ax2 = fig.add_subplot(232)\n",
    "ax2.plot(x_values, norm.pdf(x_values, 0, 1))\n",
    "ax2.set_xlabel('X-axis')\n",
    "ax2.set_ylabel('Probability Density')\n",
    "ax2.set_title('Marginal Distribution of X')\n",
    "\n",
    "# Create subplot for the marginal distribution of y_values\n",
    "ax3 = fig.add_subplot(233)\n",
    "ax3.plot(expon.pdf(y_values, 0, 1), y_values)\n",
    "ax3.set_xlabel('Probability Density')\n",
    "ax3.set_ylabel('Y-axis')\n",
    "ax3.set_title('Marginal Distribution of Y')\n",
    "\n",
    "# Create subplot for conditional probability P(X|Y=y0)\n",
    "y0 = 3.0  # example fixed value for Y\n",
    "ax4 = fig.add_subplot(235)\n",
    "ax4.plot(x_values, Z[np.argmin(np.abs(y_values - y0)), :])\n",
    "ax4.set_xlabel('X-axis')\n",
    "ax4.set_ylabel('Conditional Probability')\n",
    "ax4.set_title(f'Conditional Distribution P(X|Y={y0})')\n",
    "\n",
    "# Create subplot for conditional probability P(Y|X=x0)\n",
    "x0 = -2.0  # example fixed value for X\n",
    "ax5 = fig.add_subplot(236)\n",
    "ax5.plot(Z[:, np.argmin(np.abs(x_values - x0))], y_values)\n",
    "ax5.set_xlabel('Conditional Probability')\n",
    "ax5.set_ylabel('Y-axis')\n",
    "ax5.set_title(f'Conditional Distribution P(Y|X={x0})')\n",
    "\n",
    "plt.tight_layout()\n",
    "plt.show()\n"
   ]
  },
  {
   "cell_type": "markdown",
   "metadata": {
    "slideshow": {
     "slide_type": "slide"
    }
   },
   "source": [
    "# Conditional Maximum Likelihood\n",
    "\n",
    "Conditional Likelihood of $y$ given $x$: \n",
    "$$\\ell_{\\theta}(y|x) = P_{\\theta}(y^{(1)}, y^{(2)}, \\ldots, y^{(n)} | x^{(1)}, x^{(2)}, \\ldots, x^{(n)})$$\n",
    "\n"
   ]
  },
  {
   "cell_type": "markdown",
   "metadata": {
    "slideshow": {
     "slide_type": "fragment"
    }
   },
   "source": [
    "Assuming the observations are independent and identically distributed (iid):\n",
    "$$\\ell_{\\theta}(y|x) = \\prod_{i=1}^{n} P_{\\theta}(y^{(i)} | x^{(i)}) = P_{\\theta}(y^{(1)} | x^{(1)})\\times P_{\\theta}(y^{(2)} | x^{(2)})\\times ... \\times P_{\\theta}(y^{(n)} | x^{(n)})$$\n",
    "* We need to find the $\\theta$ that maximizes this likelihood\n",
    "* Since $log$ is a monotonically increasing function, if we take the log of the likehood function, we can convert Products to Summations, which is easier to work with\n"
   ]
  },
  {
   "cell_type": "markdown",
   "metadata": {
    "slideshow": {
     "slide_type": "fragment"
    }
   },
   "source": [
    "$$\\log(\\ell_{\\theta}(y|x)) = \\log(\\prod_{i=1}^{n} P_{\\theta}(y^{(i)} | x^{(i)})) = \\log(P_{\\theta}(y^{(1)} | x^{(1)})\\times P_{\\theta}(y^{(2)} | x^{(2)})\\times ... \\times P_{\\theta}(y^{(n)} | x^{(n)})) = $$\n",
    "$$\\sum_{i=1}^n \\log P_\\theta(y^{(i)} | {x}^{(i)})$$"
   ]
  },
  {
   "cell_type": "markdown",
   "metadata": {
    "slideshow": {
     "slide_type": "slide"
    }
   },
   "source": [
    "# Conditional Maximum Likelihood (Will cover this more thoroughly in future lectures)\n",
    "\n",
    "We can train any model that defines a probability distribution $P_\\theta(y|x)$ by optimizing\n",
    "the *conditional maximum likelihood* objective\n",
    "$$\n",
    "\\max_\\theta \\ell(\\theta) = \\max_{\\theta}\\sum_{i=1}^n \\log P_\\theta(y^{(i)} | {x}^{(i)}).\n",
    "$$\n",
    "defined over a dataset $\\mathcal{D} = \\{(x^{(1)}, y^{(1)}), (x^{(2)}, y^{(2)}), \\ldots, (x^{(n)}, y^{(n)})\\}$."
   ]
  },
  {
   "cell_type": "markdown",
   "metadata": {
    "slideshow": {
     "slide_type": "fragment"
    }
   },
   "source": [
    "This asks that for each input $x^{(i)}$ in the dataset $\\mathcal{D}$, $P_\\theta$ should assign a high probability to the correct target $y^{(i)}$."
   ]
  },
  {
   "cell_type": "markdown",
   "metadata": {
    "slideshow": {
     "slide_type": "subslide"
    }
   },
   "source": [
    "Why is maximum likelihood a good objective? \n",
    "\n",
    "* Given $x^{(i)}$, our model defines a distribution $P_\\theta(y|x^{(i)})$ over $y$\n",
    "* We want to choose the weights such that the true label $y^{(i)}$ has the highest possible probability under $P_\\theta(y|x^{(i)})$ at each known $x^{(i)}$"
   ]
  },
  {
   "cell_type": "markdown",
   "metadata": {
    "slideshow": {
     "slide_type": "skip"
    }
   },
   "source": [
    "Maximuzing log-likelihood asks the model $f_\\theta(x) = \\sigma(\\theta^\\top x)$: \n",
    "* To output values close to one when the true label is one \n",
    "* And close to zero when the true label is zero"
   ]
  },
  {
   "cell_type": "markdown",
   "metadata": {
    "slideshow": {
     "slide_type": "slide"
    }
   },
   "source": [
    "# Example: Flipping a Random Coin\n",
    "\n",
    "$\n",
    "\\newcommand{\\cm}{\\mathcal{M}}\n",
    "$\n",
    "Consider a simple example in which we repeatedly toss a BIASED coin and record the outcomes."
   ]
  },
  {
   "cell_type": "markdown",
   "metadata": {
    "slideshow": {
     "slide_type": "fragment"
    }
   },
   "source": [
    "* There are two possible outcomes: heads ($H$) and tails ($T$). A training dataset consists of tosses of the biased coin, e.g., $\\mathcal{D}=\\{H,H,T,H,T\\}$ "
   ]
  },
  {
   "cell_type": "markdown",
   "metadata": {
    "slideshow": {
     "slide_type": "skip"
    }
   },
   "source": [
    "* Assumption: true probability distribution is $P_{\\textrm{data}}(y)$, $y \\in \\{H,T\\}$ "
   ]
  },
  {
   "cell_type": "markdown",
   "metadata": {
    "slideshow": {
     "slide_type": "fragment"
    }
   },
   "source": [
    "* Our task is to determine the probability $\\theta$ of seeing heads. "
   ]
  },
  {
   "cell_type": "markdown",
   "metadata": {
    "slideshow": {
     "slide_type": "slide"
    }
   },
   "source": [
    "# Example: Flipping a Random Coin\n",
    "\n",
    "How should we choose $\\theta$ if 3 out of 5 tosses are heads? Let's apply maximum likelihood learning."
   ]
  },
  {
   "cell_type": "markdown",
   "metadata": {
    "slideshow": {
     "slide_type": "fragment"
    }
   },
   "source": [
    "* Our dataset is $\\mathcal{D}=\\{y^{(1)},y^{(2)},y^{(3)},y^{(4)},y^{(5)}\\}=\\{H,H,T,H,T\\}$ \n",
    "* Our model is $P_\\theta(y)=\\theta$ if $y=H$ and $P_\\theta(y)=1-\\theta$ if $y=T$, and there is a single parameter $\\theta \\in [0,1]$\n",
    "* The likelihood of the data is $L(\\theta) = \\prod_{i=1}^n P_\\theta(y^{(i)})=\\theta \\cdot \\theta \\cdot (1-\\theta) \\cdot \\theta \\cdot (1-\\theta)$."
   ]
  },
  {
   "cell_type": "markdown",
   "metadata": {
    "slideshow": {
     "slide_type": "subslide"
    }
   },
   "source": [
    "We optimize for $\\theta$ which makes $\\mathcal{D}$ most likely. What is the solution in this case?"
   ]
  },
  {
   "cell_type": "code",
   "execution_count": null,
   "metadata": {
    "slideshow": {
     "slide_type": "fragment"
    }
   },
   "outputs": [],
   "source": [
    "%matplotlib inline\n",
    "import numpy as np\n",
    "from matplotlib import pyplot as plt\n",
    "\n",
    "# our dataset is {H, H, T, H, T}; if theta = P(x=H), we get:\n",
    "coin_likelihood = lambda theta: theta*theta*(1-theta)*theta*(1-theta)\n",
    "\n",
    "theta_vals = np.linspace(0,1)\n",
    "plt.ylabel('Likelihood of the Data')\n",
    "plt.xlabel('Parameter Theta')\n",
    "plt.scatter([0.6], [coin_likelihood(0.6)])\n",
    "plt.plot(theta_vals, coin_likelihood(theta_vals))"
   ]
  },
  {
   "cell_type": "markdown",
   "metadata": {
    "slideshow": {
     "slide_type": "subslide"
    }
   },
   "source": [
    "The likelihood $L(\\theta)$ is maximized by $\\theta=0.6$, which is also what we expect intuitively since 3/5 tosses are heads."
   ]
  },
  {
   "cell_type": "markdown",
   "metadata": {
    "slideshow": {
     "slide_type": "skip"
    }
   },
   "source": [
    "# Example: Flipping a Random Coin\n",
    "\n",
    "Our log-likelihood function is\n",
    "\\begin{eqnarray}\n",
    "\\nonumber\n",
    "L(\\theta) &=& \\theta^{\\#\\,\\text{heads}} \\cdot (1-\\theta)^{\\#\\,\\text{tails}}\\\\\n",
    "\\nonumber\n",
    "\\log L(\\theta) &=& \\log(\\theta^{\\#\\,\\text{heads}} \\cdot (1-\\theta)^{\\#\\,\\text{tails}}) \\\\\n",
    "\\nonumber\n",
    "&=& \\#\\,\\text{heads} \\cdot \\log(\\theta) + \\#\\,\\text{tails} \\cdot \\log(1-\\theta)\n",
    "\\end{eqnarray}\n",
    "The maximum likelihood estimate is the $\\theta^* \\in [0,1]$ such that $\\log L(\\theta^*)$ is maximized."
   ]
  },
  {
   "cell_type": "markdown",
   "metadata": {
    "slideshow": {
     "slide_type": "skip"
    }
   },
   "source": [
    "Differentiating the log-likelihood function with respect to $\\theta$ and setting the derivative to zero, we obtain\n",
    "$$\\theta^*= \\frac{\\#\\,\\text{heads}}{\\#\\,\\text{heads}+\\#\\,\\text{tails}}$$"
   ]
  },
  {
   "cell_type": "markdown",
   "metadata": {
    "slideshow": {
     "slide_type": "skip"
    }
   },
   "source": [
    "When exact solutions are not available, we can optimize the log likelihood numerically, e.g. using gradient descent.\n",
    "\n",
    "We will see examples of this later."
   ]
  },
  {
   "cell_type": "markdown",
   "metadata": {
    "slideshow": {
     "slide_type": "slide"
    }
   },
   "source": [
    "<left><img width=25% src=\"img/gw_monogram_2c.png\"></left>\n",
    "\n",
    "\n",
    "# Part 4: Learning in Logistic Regression\n",
    "\n",
    "Next, we will use maximum likelihood to learn the parameters of a logistic regression model."
   ]
  },
  {
   "cell_type": "markdown",
   "metadata": {
    "slideshow": {
     "slide_type": "slide"
    }
   },
   "source": [
    "# Logistic Regression\n",
    "\n",
    "Recall that a logistic model defines (\"parameterizes\") a probability distribution $P_\\theta(y|x) : \\mathcal{X} \\times \\mathcal{Y} \\to [0,1]$ as follows:\n",
    "\n",
    "\\begin{align*}\n",
    "P_\\theta(y=1 | x) & = \\sigma(\\theta^\\top x) \\\\\n",
    "P_\\theta(y=0 | x) & = 1-\\sigma(\\theta^\\top x).\n",
    "\\end{align*}\n",
    "\n",
    "Note: A probability over $y \\in \\{0,1\\}$ of the form $P(y=1)=p$ is called Bernoulli."
   ]
  },
  {
   "cell_type": "markdown",
   "metadata": {
    "slideshow": {
     "slide_type": "fragment"
    }
   },
   "source": [
    "When $y \\in \\{0,1\\}$, can write this more compactly as\n",
    "\\begin{align*}\n",
    "P_\\theta(y | x) = \\sigma(\\theta^\\top x)^y \\cdot (1-\\sigma(\\theta^\\top x))^{1-y}\n",
    "\\end{align*}"
   ]
  },
  {
   "cell_type": "markdown",
   "metadata": {
    "slideshow": {
     "slide_type": "slide"
    }
   },
   "source": [
    "# Applying Maximum Lilkelihood\n",
    "\n",
    "Following the principle of maximum likelihood, we want to optimize the following objective defined over a binary classification dataset  $\\mathcal{D} = \\{(x^{(1)}, y^{(1)}), (x^{(2)}, y^{(2)}), \\ldots, (x^{(n)}, y^{(n)})\\}$.\n",
    "\\begin{align*}\n",
    "\\ell(\\theta) & = \\frac{1}{n}\\sum_{i=1}^n \\log P_\\theta (y^{(i)} \\mid x^{(i)}) \\\\\n",
    "& = \\frac{1}{n}\\sum_{i=1}^n \\log \\sigma(\\theta^\\top x^{(i)})^{y^{(i)}} \\cdot (1-\\sigma(\\theta^\\top x^{(i)}))^{1-y^{(i)}} \\\\\n",
    "& = \\frac{1}{n}\\sum_{i=1}^n {y^{(i)}} \\cdot \\log \\sigma(\\theta^\\top x^{(i)}) + (1-y^{(i)}) \\cdot \\log (1-\\sigma(\\theta^\\top x^{(i)})).\n",
    "\\end{align*}\n",
    "\n",
    "This objective is also often called the log-loss, or cross-entropy."
   ]
  },
  {
   "cell_type": "markdown",
   "metadata": {
    "slideshow": {
     "slide_type": "subslide"
    }
   },
   "source": [
    "Observe that this objective asks the model to ouput a large score $\\sigma(\\theta^\\top x^{(i)})$ (a score that's close to one) if $y^{(i)}=1$, and a score that's small (close to zero) if $y^{(i)}=0$."
   ]
  },
  {
   "cell_type": "markdown",
   "metadata": {
    "slideshow": {
     "slide_type": "fragment"
    }
   },
   "source": [
    "Let's implement the log-likelihood objective."
   ]
  },
  {
   "cell_type": "code",
   "execution_count": null,
   "metadata": {
    "slideshow": {
     "slide_type": "fragment"
    }
   },
   "outputs": [],
   "source": [
    "def log_likelihood(theta, X, y):\n",
    "    \"\"\"The cost function, J(theta0, theta1) describing the goodness of fit.\n",
    "    \n",
    "    We added the 1e-6 term in order to avoid overflow (inf and -inf).\n",
    "    \n",
    "    Parameters:\n",
    "    theta (np.array): d-dimensional vector of parameters\n",
    "    X (np.array): (n,d)-dimensional design matrix\n",
    "    y (np.array): n-dimensional vector of targets\n",
    "    \"\"\"\n",
    "    return (y*np.log(f(X, theta) + 1e-6) + (1-y)*np.log(1-f(X, theta) + 1e-6)).mean()"
   ]
  },
  {
   "cell_type": "markdown",
   "metadata": {
    "slideshow": {
     "slide_type": "slide"
    }
   },
   "source": [
    "# Review: Gradient Descent\n",
    "If we want to minimize an objective $J(\\theta)$, we may start with an initial guess $\\theta_0$ for the parameters and repeat the following update:\n",
    "\n",
    "$$ \\theta_i := \\theta_{i-1} - \\alpha \\cdot \\nabla_\\theta J(\\theta_{i-1}). $$"
   ]
  },
  {
   "cell_type": "markdown",
   "metadata": {
    "slideshow": {
     "slide_type": "slide"
    }
   },
   "source": [
    "# Gradient of the Log-Likelihood\n",
    "\n",
    "We want to use gradient descent to maximize the log-likelihood, hence our objective is\n",
    "$J(\\theta) = - \\ell(\\theta).$\n",
    "\n",
    "We can show that the gradient of the negative log-likelihood equals:\n",
    "\\begin{align*}\n",
    "\\nabla_\\theta J (\\theta) =  \\nabla_\\theta \\left[-\\ell (\\theta) \\right]= \n",
    "\\left( \\sigma(\\theta^\\top x) - y \\right) \\cdot \\bf{x}.\n",
    "\\end{align*}\n",
    "\n",
    "Interestingly, this expression looks similar to the gradient of the mean squared error, which we derived in the previous lecture."
   ]
  },
  {
   "cell_type": "markdown",
   "metadata": {
    "slideshow": {
     "slide_type": "subslide"
    }
   },
   "source": [
    "Let's implement the gradient."
   ]
  },
  {
   "cell_type": "code",
   "execution_count": null,
   "metadata": {
    "slideshow": {
     "slide_type": "fragment"
    }
   },
   "outputs": [],
   "source": [
    "def loglik_gradient(theta, X, y):\n",
    "    \"\"\"The cost function, J(theta0, theta1) describing the goodness of fit.\n",
    "    \n",
    "    Parameters:\n",
    "    theta (np.array): d-dimensional vector of parameters\n",
    "    X (np.array): (n,d)-dimensional design matrix\n",
    "    y (np.array): n-dimensional vector of targets\n",
    "    \n",
    "    Returns:\n",
    "    grad (np.array): d-dimensional gradient of the MSE\n",
    "    \"\"\"\n",
    "    return np.mean((f(X, theta)-y) * X.T, axis=1)"
   ]
  },
  {
   "cell_type": "markdown",
   "metadata": {
    "slideshow": {
     "slide_type": "subslide"
    }
   },
   "source": [
    "Let's now implement gradient descent."
   ]
  },
  {
   "cell_type": "code",
   "execution_count": null,
   "metadata": {
    "slideshow": {
     "slide_type": "fragment"
    }
   },
   "outputs": [],
   "source": [
    "threshold = 5e-5\n",
    "step_size = 1e-1\n",
    "\n",
    "theta, theta_prev = np.zeros((3,)), np.ones((3,))\n",
    "opt_pts = [theta]\n",
    "opt_grads = []\n",
    "iter = 0\n",
    "iris_X['one'] = 1\n",
    "X_train = iris_X.iloc[:,[0,1,-1]].to_numpy()\n",
    "y_train = iris_y2.to_numpy()\n",
    "\n",
    "while np.linalg.norm(theta - theta_prev) > threshold:\n",
    "    if iter % 50000 == 0:\n",
    "        print('Iteration %d. Log-likelihood: %.6f' % (iter, log_likelihood(theta, X_train, y_train)))\n",
    "    theta_prev = theta\n",
    "    gradient = loglik_gradient(theta, X_train, y_train)\n",
    "    theta = theta_prev - step_size * gradient\n",
    "    opt_pts += [theta]\n",
    "    opt_grads += [gradient]\n",
    "    iter += 1"
   ]
  },
  {
   "cell_type": "markdown",
   "metadata": {
    "slideshow": {
     "slide_type": "subslide"
    }
   },
   "source": [
    "Let's now visualize the result."
   ]
  },
  {
   "cell_type": "code",
   "execution_count": null,
   "metadata": {
    "slideshow": {
     "slide_type": "fragment"
    }
   },
   "outputs": [],
   "source": [
    "xx, yy = np.meshgrid(np.arange(x_min, x_max, .02), np.arange(y_min, y_max, .02))\n",
    "Z = f(np.c_[xx.ravel(), yy.ravel(), np.ones(xx.ravel().shape)], theta)\n",
    "Z[Z<0.5] = 0\n",
    "Z[Z>=0.5] = 1\n",
    "\n",
    "# Put the result into a color plot\n",
    "Z = Z.reshape(xx.shape)\n",
    "plt.pcolormesh(xx, yy, Z, cmap=plt.cm.Paired)\n",
    "\n",
    "# Plot also the training points\n",
    "plt.scatter(X[:, 0], X[:, 1], c=Y, edgecolors='k', cmap=plt.cm.Paired)\n",
    "plt.xlabel('Sepal length')\n",
    "plt.ylabel('Sepal width')\n",
    "\n",
    "plt.show()"
   ]
  },
  {
   "cell_type": "markdown",
   "metadata": {
    "slideshow": {
     "slide_type": "skip"
    }
   },
   "source": [
    "This is how we would use the algorithm via `sklearn`."
   ]
  },
  {
   "cell_type": "code",
   "execution_count": null,
   "metadata": {
    "slideshow": {
     "slide_type": "skip"
    }
   },
   "outputs": [],
   "source": [
    "from sklearn.linear_model import LogisticRegression\n",
    "logreg = LogisticRegression(C=1e5, fit_intercept=True)\n",
    "\n",
    "# Create an instance of Logistic Regression Classifier and fit the data.\n",
    "X = iris_X.to_numpy()[:,:2]\n",
    "Y = iris_y2\n",
    "logreg.fit(X, Y)\n",
    "\n",
    "xx, yy = np.meshgrid(np.arange(x_min, x_max, h), np.arange(y_min, y_max, .02))\n",
    "Z = logreg.predict(np.c_[xx.ravel(), yy.ravel()])\n",
    "\n",
    "# Put the result into a color plot\n",
    "Z = Z.reshape(xx.shape)\n",
    "plt.pcolormesh(xx, yy, Z, cmap=plt.cm.Paired)\n",
    "\n",
    "# Plot also the training points\n",
    "plt.scatter(X[:, 0], X[:, 1], c=Y, edgecolors='k', cmap=plt.cm.Paired)\n",
    "plt.xlabel('Sepal length')\n",
    "plt.ylabel('Sepal width')\n",
    "\n",
    "plt.show()"
   ]
  },
  {
   "cell_type": "markdown",
   "metadata": {
    "slideshow": {
     "slide_type": "slide"
    }
   },
   "source": [
    "# Observations About Logistic Regression\n",
    "\n",
    "* Logistic regression finds a linear decision boundary. This is the set of points for which $P(y=1|x)=P(y=0|x)$, or equivalently:\n",
    "\\begin{align*}\n",
    "0 = \\log\\frac{P(y=1|x)}{P(y=0|x)}\n",
    "= \\log \\frac{\\frac{1}{1+\\exp(-\\theta^\\top x)}}{1-\\frac{1}{1+\\exp(-\\theta^\\top x)}}\n",
    "= \\theta^\\top x\n",
    "\\end{align*}\n",
    "The set of $x$ for which $0=\\theta^\\top x$ is a linear surface."
   ]
  },
  {
   "cell_type": "markdown",
   "metadata": {
    "slideshow": {
     "slide_type": "fragment"
    }
   },
   "source": [
    "* Unlike least squares, we don't have a closed form solution (a formula) for the optimal $\\theta$. We can nonetheless find it numerically via gradient descent."
   ]
  },
  {
   "cell_type": "markdown",
   "metadata": {
    "slideshow": {
     "slide_type": "slide"
    }
   },
   "source": [
    "# Algorithm: Logistic Regression\n",
    "\n",
    "* __Type__: Supervised learning (binary classification)\n",
    "* __Model family__: Linear decision boundaries.\n",
    "* __Objective function__: Cross-entropy, a special case of log-likelihood.\n",
    "* __Optimizer__: Gradient descent.\n",
    "* __Probabilistic interpretation__: Parametrized Bernoulli distribution."
   ]
  },
  {
   "cell_type": "markdown",
   "metadata": {
    "slideshow": {
     "slide_type": "slide"
    }
   },
   "source": [
    "<left><img width=25% src=\"img/gw_monogram_2c.png\"></left>\n",
    "\n",
    "\n",
    "# Part 5: Multi-Class Classification\n",
    "\n",
    "Finally, let's look at an extension of logistic regression to an arbitrary number of classes."
   ]
  },
  {
   "cell_type": "markdown",
   "metadata": {
    "slideshow": {
     "slide_type": "slide"
    }
   },
   "source": [
    "# Multi-Class Classification\n",
    "\n",
    "Logistic regression only applies to binary classification problems. What if we have an arbitrary number of classes $K$?"
   ]
  },
  {
   "cell_type": "markdown",
   "metadata": {
    "slideshow": {
     "slide_type": "fragment"
    }
   },
   "source": [
    "* The simplest approach that can be used with any machine learning algorithm is the \"one vs. all\" approach. We train one classifer for each class to distinguish that class from all the others. "
   ]
  },
  {
   "cell_type": "markdown",
   "metadata": {
    "slideshow": {
     "slide_type": "fragment"
    }
   },
   "source": [
    "* This works, but is not very elegant."
   ]
  },
  {
   "cell_type": "markdown",
   "metadata": {
    "slideshow": {
     "slide_type": "fragment"
    }
   },
   "source": [
    "* Alternatively, we may fit a probabilistic model that outputs multi-class probabilities."
   ]
  },
  {
   "cell_type": "markdown",
   "metadata": {
    "slideshow": {
     "slide_type": "subslide"
    }
   },
   "source": [
    "Let's load a fully multiclass version of the Iris dataset."
   ]
  },
  {
   "cell_type": "code",
   "execution_count": null,
   "metadata": {
    "slideshow": {
     "slide_type": "fragment"
    }
   },
   "outputs": [],
   "source": [
    "# https://scikit-learn.org/stable/auto_examples/neighbors/plot_classification.html\n",
    "# Plot also the training points\n",
    "p1 = plt.scatter(iris_X.iloc[:, 0], iris_X.iloc[:, 1], c=iris_y,\n",
    "            edgecolor='k', s=60, cmap=plt.cm.Paired)\n",
    "plt.xlabel('Sepal Length')\n",
    "plt.ylabel('Sepal Width')\n",
    "plt.legend(handles=p1.legend_elements()[0], labels=['Setosa', 'Versicolour', 'Virginica'], loc='lower right')"
   ]
  },
  {
   "cell_type": "markdown",
   "metadata": {
    "slideshow": {
     "slide_type": "slide"
    }
   },
   "source": [
    "# The Softmax Function\n",
    "\n",
    "The logistic function $\\sigma : \\mathbb{R} \\to [0,1]$ \"squeezes\" the score $z\\in\\mathbb{R}$ of a class into a probability in $[0,1]$."
   ]
  },
  {
   "cell_type": "markdown",
   "metadata": {
    "slideshow": {
     "slide_type": "fragment"
    }
   },
   "source": [
    "The *softmax* function $\\vec \\sigma : \\mathbb{R}^K \\to [0,1]^K$ is a multi-class version of $\\sigma$ \n",
    "* It takes in a $K$-dimensional *vector* of class scores $\\vec z\\in\\mathbb{R}$ \n",
    "* It \"squeezes\" $\\vec z$ into a length $K$ *vector* of  probabilities in $[0,1]^K$"
   ]
  },
  {
   "cell_type": "markdown",
   "metadata": {
    "slideshow": {
     "slide_type": "subslide"
    }
   },
   "source": [
    "The $k$-th component of the output of the softmax function $\\vec \\sigma$ is defined as\n",
    "$$ \\sigma(\\vec z)_k = \\frac{\\exp(z_k)}{\\sum_{l=1}^K \\exp(z_l)}. $$\n",
    "\n",
    "Softmax takes a vector of scores $\\vec z$, exponentiates each score $z_k$, and normalizes the exponentiated scores such that they sum to one."
   ]
  },
  {
   "cell_type": "markdown",
   "metadata": {
    "slideshow": {
     "slide_type": "slide"
    }
   },
   "source": [
    "# Recall: Logistic Regression\n",
    "\n",
    "Logistic regression is a classification algorithm which uses a model $f_\\theta$ of the form\n",
    "$$ f_\\theta(x) = \\sigma(\\theta^\\top x) = \\frac{1}{1 + \\exp(-\\theta^\\top x)}, $$\n",
    "where \n",
    "$$ \\sigma(z) = \\frac{1}{1 + \\exp(-z)} $$\n",
    "is the *sigmoid* or *logistic* function. It trains this model using maximum likelihood."
   ]
  },
  {
   "cell_type": "markdown",
   "metadata": {
    "slideshow": {
     "slide_type": "slide"
    }
   },
   "source": [
    "# Softmax Regression: Model Class\n",
    "\n",
    "Softmax regression is a multi-class classification algorithm which uses a model $f_\\theta : \\mathcal{X} \\to [0,1]^K$ that generalizes logistic regression."
   ]
  },
  {
   "cell_type": "markdown",
   "metadata": {
    "slideshow": {
     "slide_type": "subslide"
    }
   },
   "source": [
    "Softmax regression works as follows:\n",
    "1. Given an input $x$, we compute $K$ scores, one per class. The score \n",
    "$$z_k = \\theta_k^\\top x$$\n",
    "of class $k$ is a linear function of $x$ and parameters $\\theta_k$ for class $k$"
   ]
  },
  {
   "cell_type": "markdown",
   "metadata": {
    "slideshow": {
     "slide_type": "fragment"
    }
   },
   "source": [
    "2. We \"squeeze\" the vector of scores $\\vec z$ into $[0,1]^K$ using the softmax function $\\vec\\sigma$ and we output $\\vec\\sigma(\\vec z)$, a vector of $K$ probabilities."
   ]
  },
  {
   "cell_type": "markdown",
   "metadata": {
    "slideshow": {
     "slide_type": "fragment"
    }
   },
   "source": [
    "The parameters of this model are $\\theta = (\\theta_1, \\theta_2, ..., \\theta_K)$, and the parameter space is $\\Theta = \\mathbb{R}^{K \\times d}$."
   ]
  },
  {
   "cell_type": "markdown",
   "metadata": {
    "slideshow": {
     "slide_type": "subslide"
    }
   },
   "source": [
    "The output of the model is a *vector* of class membership probabilities, whose $k$-th component $f_\\theta(x)_k$ is\n",
    "$$ f_\\theta(x)_k = \\sigma(\\theta_k^\\top x)_k = \\frac{\\exp(\\theta_k^\\top x)}{\\sum_{l=1}^K \\exp(\\theta_l^\\top x)}, $$\n",
    "where each $\\theta_l \\in \\mathbb{R}^d$  is the vector of parameters for class $\\ell$ and $\\theta = (\\theta_1, \\theta_2, ..., \\theta_K)$."
   ]
  },
  {
   "cell_type": "markdown",
   "metadata": {
    "slideshow": {
     "slide_type": "subslide"
    }
   },
   "source": [
    "This model is again over-parametrized: adding a constant $c \\in \\mathbb{R}$ to every score $\\theta_k^\\top x$ does not change the output of the model."
   ]
  },
  {
   "cell_type": "markdown",
   "metadata": {
    "slideshow": {
     "slide_type": "fragment"
    }
   },
   "source": [
    "As before, we can assume without loss of generality that $z_1=0$ (or equivalently that $\\theta_1=0$). This doesn't change the set of functions $\\mathcal{X} \\to [0,1]^K$ that our model class can represent."
   ]
  },
  {
   "cell_type": "markdown",
   "metadata": {
    "slideshow": {
     "slide_type": "subslide"
    }
   },
   "source": [
    "Note again that softmax regression is actually a __classification__ algorithm.\n",
    "\n",
    "The term *regression* is an unfortunate historical misnomer."
   ]
  },
  {
   "cell_type": "markdown",
   "metadata": {
    "slideshow": {
     "slide_type": "slide"
    }
   },
   "source": [
    "# Softmax Regression: Learning Objective\n",
    "\n",
    "We again maximize likelihood over a dataset  $\\mathcal{D}$.\n",
    "\\begin{align*}\n",
    "L(\\theta) & = \\prod_{i=1}^n P_\\theta (y^{(i)} \\mid x^{(i)}) = \\prod_{i=1}^n \\vec \\sigma(\\vec z^{(i)})_{y^{(i)}} \\\\\n",
    "& = \\prod_{i=1}^n \\left( \\frac{\\exp(\\theta_{y^{(i)}}^\\top x^{(i)})}{\\sum_{l=1}^K \\exp(\\theta_l^\\top x^{(i)})} \\right). \\\\\n",
    "\\end{align*}\n",
    "\n",
    "We optimize this using gradient descent."
   ]
  },
  {
   "cell_type": "markdown",
   "metadata": {
    "slideshow": {
     "slide_type": "subslide"
    }
   },
   "source": [
    "Let's now apply softmax regression to the Iris dataset by using the implementation from `sklearn`."
   ]
  },
  {
   "cell_type": "code",
   "execution_count": null,
   "metadata": {
    "slideshow": {
     "slide_type": "fragment"
    }
   },
   "outputs": [],
   "source": [
    "# https://scikit-learn.org/stable/auto_examples/linear_model/plot_iris_logistic.html\n",
    "from sklearn.linear_model import LogisticRegression\n",
    "logreg = LogisticRegression(C=1e5, multi_class='multinomial')\n",
    "\n",
    "# Create an instance of Softmax and fit the data.\n",
    "logreg.fit(X, iris_y)\n",
    "Z = logreg.predict(np.c_[xx.ravel(), yy.ravel()])\n",
    "\n",
    "# Put the result into a color plot\n",
    "Z = Z.reshape(xx.shape)\n",
    "plt.pcolormesh(xx, yy, Z, cmap=plt.cm.Paired)\n",
    "\n",
    "# Plot also the training points\n",
    "plt.scatter(X[:, 0], X[:, 1], c=iris_y, edgecolors='k', cmap=plt.cm.Paired)\n",
    "plt.xlabel('Sepal length')\n",
    "plt.ylabel('Sepal width')\n",
    "\n",
    "plt.show()"
   ]
  },
  {
   "cell_type": "markdown",
   "metadata": {
    "slideshow": {
     "slide_type": "slide"
    }
   },
   "source": [
    "# Algorithm: Softmax Regression\n",
    "\n",
    "* __Type__: Supervised learning (multi-class classification)\n",
    "* __Model family__: Linear decision boundaries.\n",
    "* __Objective function__: Softmax loss, a special case of log-likelihood.\n",
    "* __Optimizer__: Gradient descent.\n",
    "* __Probabilistic interpretation__: Parametrized categorical distribution."
   ]
  },
  {
   "cell_type": "markdown",
   "metadata": {
    "slideshow": {
     "slide_type": "slide"
    }
   },
   "source": [
    "# Conclusion and Key Ideas\n",
    "\n",
    "In summary, the key takeaways are:\n",
    "\n",
    "* We can define classification models by taking a regression model and mapping its output into $[0,1]$ (e.g., via sigmoid or softmax).\n",
    "* ML models usually have probabilistic interpretations as $P_\\theta(y|x)$.\n",
    "* Any probabilistic model can be trained using maximum likelihood $\\max_\\theta \\sum_{i=1}^n P_\\theta(y^{(i)}|x^{(i)})$."
   ]
  }
 ],
 "metadata": {
  "accelerator": "GPU",
  "celltoolbar": "Slideshow",
  "colab": {
   "collapsed_sections": [],
   "name": "neural-ode.ipynb",
   "provenance": []
  },
  "kernelspec": {
   "display_name": "Python [conda env:gwu] *",
   "language": "python",
   "name": "conda-env-gwu-py"
  },
  "language_info": {
   "codemirror_mode": {
    "name": "ipython",
    "version": 3
   },
   "file_extension": ".py",
   "mimetype": "text/x-python",
   "name": "python",
   "nbconvert_exporter": "python",
   "pygments_lexer": "ipython3",
   "version": "3.9.19"
  },
  "rise": {
   "controlsTutorial": false,
   "height": 900,
   "help": false,
   "margin": 0,
   "maxScale": 2,
   "minScale": 0.2,
   "progress": true,
   "scroll": true,
   "theme": "simple",
   "width": 1200
  }
 },
 "nbformat": 4,
 "nbformat_minor": 1
}

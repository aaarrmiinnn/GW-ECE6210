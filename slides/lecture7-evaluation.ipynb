{
 "cells": [
  {
   "cell_type": "markdown",
   "metadata": {
    "colab_type": "text",
    "id": "i_f5u2x9nn6I",
    "slideshow": {
     "slide_type": "slide"
    }
   },
   "source": [
    "<left><img width=25% src=\"img/gw_monogram_2c.png\"></left>\n",
    "\n",
    "# Lecture 8: Developing and Evaluating Machine Learning Models\n",
    "\n",
    "### CS6364/CS4364 Machine Learning\n",
    "\n",
    "__Sardar Hamidian__<br>The George Washington Universiry\n",
    "\n",
    "__Armin Mehrabian__<br>The George Washington Universiry"
   ]
  },
  {
   "cell_type": "markdown",
   "metadata": {
    "slideshow": {
     "slide_type": "slide"
    }
   },
   "source": [
    "# Announcement\n",
    "\n",
    "* "
   ]
  },
  {
   "cell_type": "markdown",
   "metadata": {
    "slideshow": {
     "slide_type": "slide"
    }
   },
   "source": [
    "# Practical Considerations When Applying Machine Learning\n",
    "\n",
    "Suppose you trained an image classifier with 80% accuracy. What's next?"
   ]
  },
  {
   "cell_type": "markdown",
   "metadata": {
    "slideshow": {
     "slide_type": "fragment"
    }
   },
   "source": [
    "* Add more data?\n",
    "* Train the algorithm for longer?\n",
    "* Use a bigger model?\n",
    "* Add regularization?\n",
    "* Add new features?"
   ]
  },
  {
   "cell_type": "markdown",
   "metadata": {
    "slideshow": {
     "slide_type": "fragment"
    }
   },
   "source": [
    "We look at how to prioritize decisions to produce performant ML systems."
   ]
  },
  {
   "cell_type": "markdown",
   "metadata": {
    "slideshow": {
     "slide_type": "slide"
    }
   },
   "source": [
    "# Part 1: Machine Learning Development Workflow\n",
    "\n",
    "In order to iterate and improve upon machine learning models, practitioners follow a development workflow.\n",
    "\n",
    "We first define it at a high-level. Afterwards, we will describe each step in more detail."
   ]
  },
  {
   "cell_type": "markdown",
   "metadata": {
    "slideshow": {
     "slide_type": "slide"
    }
   },
   "source": [
    "# Datasets for Model Development\n",
    "\n",
    "When developing machine learning models, it is customary to work with three datasets:\n",
    "* __Training set__: Data on which we train our algorithms.\n",
    "* __Test set__ (Developement set or Validation set): Data used for tuning algorithms.\n",
    "* __Hold-out set__ (Test set): Data used to evaluate the final performance of the model."
   ]
  },
  {
   "cell_type": "markdown",
   "metadata": {
    "slideshow": {
     "slide_type": "slide"
    }
   },
   "source": [
    "# Model Development Workflow\n",
    "\n",
    "The typical way in which these datasets are used is:\n",
    "1. __Training:__ Try a new model and fit it on the training set."
   ]
  },
  {
   "cell_type": "markdown",
   "metadata": {
    "slideshow": {
     "slide_type": "fragment"
    }
   },
   "source": [
    "2. __Model Selection__: Estimate performance on the Test set using metrics. Based on results, try a new model idea in step #1."
   ]
  },
  {
   "cell_type": "markdown",
   "metadata": {
    "slideshow": {
     "slide_type": "fragment"
    }
   },
   "source": [
    "3. __Evaluation__: Finally, estimate real-world performance on hold-out set."
   ]
  },
  {
   "cell_type": "markdown",
   "metadata": {
    "slideshow": {
     "slide_type": "subslide"
    }
   },
   "source": [
    "A few notes about this procedure:\n",
    "* ML development is a trial-and-error process. You need to try a lot of ideas!\n",
    "* When starting on a new problem, a first step is to establish train, test, and holdout sets and performance metrics.\n",
    "* This workflow allows you to iterate very quickly."
   ]
  },
  {
   "cell_type": "markdown",
   "metadata": {
    "slideshow": {
     "slide_type": "slide"
    }
   },
   "source": [
    "# Test and Holdout Sets\n",
    "\n",
    "* __Test Set__: Its goal is to detect changes in model performance.\n",
    "* __Holdout Set__: Its goal is confidently estimate real-world performance\n",
    "* Choosing the best model on the test set over-estimates its peformance. Hence, a clean and untouched holdout set is crucial!"
   ]
  },
  {
   "cell_type": "markdown",
   "metadata": {
    "slideshow": {
     "slide_type": "skip"
    }
   },
   "source": [
    "# Review: Data Distribution\n",
    "\n",
    "In machine learning, we typically assume that data comes from a probability distribution $\\mathbb{P}$, which we will call the *data distribution*:\n",
    "\n",
    "$$ x, y \\sim \\mathbb{P}. $$\n",
    "\n",
    "The training set $\\mathcal{D} = \\{(x^{(i)}, y^{(i)}) \\mid i = 1,2,...,n\\}$ consists of *independent and identicaly distributed* (IID) samples from $\\mathbb{P}$."
   ]
  },
  {
   "cell_type": "markdown",
   "metadata": {
    "slideshow": {
     "slide_type": "skip"
    }
   },
   "source": [
    "# Review: Hold-Out Set\n",
    "\n",
    "A hold-out set $\\dot{\\mathcal{D}} = \\{(\\dot{x^{(i)}}, \\dot{y^{(i)}}) \\mid i = 1,2,...,n\\}$ consists of *independent and identicaly distributed* (IID) samples from $\\mathbb{P}$ and is distinct from the training set.\n",
    "\n",
    "A model that __generalizes__ is accurate on a Holdout set and your Test set."
   ]
  },
  {
   "cell_type": "markdown",
   "metadata": {
    "slideshow": {
     "slide_type": "skip"
    }
   },
   "source": [
    "We present a workflow for developing accurate models that generalize."
   ]
  },
  {
   "cell_type": "markdown",
   "metadata": {
    "slideshow": {
     "slide_type": "slide"
    }
   },
   "source": [
    "# Choosing Test and Holdout Sets\n",
    "\n",
    "How should one choose the test and holdout set? We highlight two considerations."
   ]
  },
  {
   "cell_type": "markdown",
   "metadata": {
    "slideshow": {
     "slide_type": "subslide"
    }
   },
   "source": [
    "__Distributional Consistency__: The test and holdout sets should be from the data distribution we will see in production."
   ]
  },
  {
   "cell_type": "markdown",
   "metadata": {
    "slideshow": {
     "slide_type": "fragment"
    }
   },
   "source": [
    "* This is because we want to be optimizing performance in deployment (e.g., classification accuracy on dog images).\n",
    "* The training data could potentially be from a different distribution (e.g., include other types of animal images)."
   ]
  },
  {
   "cell_type": "markdown",
   "metadata": {
    "slideshow": {
     "slide_type": "subslide"
    }
   },
   "source": [
    "__Dataset Size__: Test and Holdout datasets need to estimate future performance."
   ]
  },
  {
   "cell_type": "markdown",
   "metadata": {
    "slideshow": {
     "slide_type": "fragment"
    }
   },
   "source": [
    "* The classic advice is to save 30\\% of data for Test and Holdout set.\n",
    "* In big data world, 30\\% can be too much. Using e.g. 3,000 inputs for testing out of 1M is enough.\n",
    "* Another advice is the your whole dataset size should be ideally 3-10 time the number of parameters in your model."
   ]
  },
  {
   "cell_type": "markdown",
   "metadata": {
    "slideshow": {
     "slide_type": "slide"
    }
   },
   "source": [
    "# Model Selection\n",
    "\n",
    "Here, we again highlight two considerations."
   ]
  },
  {
   "cell_type": "markdown",
   "metadata": {
    "slideshow": {
     "slide_type": "fragment"
    }
   },
   "source": [
    "__Choosing Metrics__: The model development workflow requires optimizing a single performance metric.\n",
    "* If multiple metrics are important, they can be combined into one (e.g., precision + recall $\\to$ F-score).\n",
    "* Other metrics (e.g., computational performance) can be incorporated as constraints."
   ]
  },
  {
   "cell_type": "markdown",
   "metadata": {
    "slideshow": {
     "slide_type": "subslide"
    }
   },
   "source": [
    "__Refining the Model__: We refine models based on test set performance and:\n",
    "* Inuition, e.g., if the model overfits, regularize it more.\n",
    "* Hyperparameter grid search or random search.\n",
    "* Sometimes, we use specialized algorithms, e.g. Bayesian hyperparameter optimization.\n",
    "\n",
    "We will provide much more detail on the intuition part later!"
   ]
  },
  {
   "cell_type": "markdown",
   "metadata": {
    "slideshow": {
     "slide_type": "skip"
    }
   },
   "source": [
    "# Example: Training a Neural Net\n",
    "\n",
    "Consider a workflow for building a neural image classifier.\n",
    "1. We start with a standard CNN that gets 90\\% test set accuracy."
   ]
  },
  {
   "cell_type": "markdown",
   "metadata": {
    "slideshow": {
     "slide_type": "skip"
    }
   },
   "source": [
    "2. We tune dropout via grid search on test set; accuracy is 95\\% now."
   ]
  },
  {
   "cell_type": "markdown",
   "metadata": {
    "slideshow": {
     "slide_type": "skip"
    }
   },
   "source": [
    "3. We try a new idea -- we add residual connections to the CNN and retrain it. This brings dev set accuracy to 99\\%!"
   ]
  },
  {
   "cell_type": "markdown",
   "metadata": {
    "slideshow": {
     "slide_type": "skip"
    }
   },
   "source": [
    "4. We are happy with this performance. We measure test set accuracy: 97\\%, still quite good!"
   ]
  },
  {
   "cell_type": "markdown",
   "metadata": {
    "slideshow": {
     "slide_type": "slide"
    }
   },
   "source": [
    "# Potential Pitfalls To Be Aware Of\n",
    "\n",
    "The model development workflow has potential limitations:\n",
    "\n",
    "1. Overfitting test set after repeatedly choosing the best model on it.\n",
    "2. Test and test holdout may no longer represent true data distribution.\n",
    "3. The metric may no longer measure true performance.\n",
    "\n",
    "In such cases you need to collect more data and/or change the metric."
   ]
  },
  {
   "cell_type": "markdown",
   "metadata": {
    "slideshow": {
     "slide_type": "slide"
    }
   },
   "source": [
    "<left><img width=25% src=\"img/gw_monogram_2c.png\"></left>\n",
    "\n",
    "# Part 2: Evaluating Classification Models\n",
    "\n",
    "The first step towards building better ML models is to determine how to *evaluate* them.\n",
    "\n",
    "We will start by talking about how to evaluate classification models."
   ]
  },
  {
   "cell_type": "markdown",
   "metadata": {
    "slideshow": {
     "slide_type": "slide"
    }
   },
   "source": [
    "# Review: Classification\n",
    "\n",
    "Consider a training dataset $\\mathcal{D} = \\{(x^{(1)}, y^{(1)}), (x^{(2)}, y^{(2)}), \\ldots, (x^{(n)}, y^{(n)})\\}$.\n",
    "\n",
    "We distinguish between two types of supervised learning problems depnding on the targets $y^{(i)}$. \n",
    "\n",
    "1. __Regression__: The target variable $y \\in \\mathcal{Y}$ is continuous:  $\\mathcal{Y} \\subseteq \\mathbb{R}$.\n",
    "2. __Classification__: The target variable $y$ is discrete, and takes on one of $K$ possible values.\n",
    "\n",
    "When classification labels take $K=2$ values, we perform __binary classification__."
   ]
  },
  {
   "cell_type": "markdown",
   "metadata": {
    "slideshow": {
     "slide_type": "subslide"
    }
   },
   "source": [
    "An example of a classification task is the Iris flower dataset."
   ]
  },
  {
   "cell_type": "code",
   "execution_count": 1,
   "metadata": {
    "slideshow": {
     "slide_type": "-"
    }
   },
   "outputs": [],
   "source": [
    "# import standard machine learning libraries\n",
    "import numpy as np\n",
    "import pandas as pd\n",
    "from sklearn import datasets\n",
    "from sklearn.model_selection import train_test_split\n",
    "\n",
    "iris = datasets.load_iris() # load the Iris dataset\n",
    "X, y = iris.data[:120, :2], iris.target[:120] # create imbalanced classes and only use first 2 features\n",
    "X, X_holdout, y, y_holdout = train_test_split(X, y, test_size=50, random_state=0)"
   ]
  },
  {
   "cell_type": "markdown",
   "metadata": {
    "slideshow": {
     "slide_type": "subslide"
    }
   },
   "source": [
    "We may visualize this dataset in 2D."
   ]
  },
  {
   "cell_type": "code",
   "execution_count": 2,
   "metadata": {
    "slideshow": {
     "slide_type": "-"
    }
   },
   "outputs": [
    {
     "data": {
      "text/plain": [
       "Text(0.5, 0, 'Sepal length (cm)')"
      ]
     },
     "execution_count": 2,
     "metadata": {},
     "output_type": "execute_result"
    },
    {
     "data": {
      "image/png": "[encoded data removed]",
      "text/plain": [
       "<Figure size 1200x400 with 1 Axes>"
      ]
     },
     "metadata": {},
     "output_type": "display_data"
    }
   ],
   "source": [
    "from matplotlib import pyplot as plt\n",
    "plt.rcParams['figure.figsize'] = [12, 4]\n",
    "\n",
    "# Visualize the Iris flower dataset\n",
    "setosa_flowers = (iris.target == 0)\n",
    "plt.scatter(X[:,0], X[:,1], c=y, cmap=plt.cm.Paired)\n",
    "plt.ylabel(\"Sepal width (cm)\")\n",
    "plt.xlabel(\"Sepal length (cm)\")"
   ]
  },
  {
   "cell_type": "markdown",
   "metadata": {
    "slideshow": {
     "slide_type": "slide"
    }
   },
   "source": [
    "# Review: Machine Learning Models\n",
    "\n",
    "A machine learning model is a function\n",
    "$$ f : \\mathcal{X} \\to \\mathcal{Y} $$\n",
    "that maps inputs $x \\in \\mathcal{X}$ to targets $y \\in \\mathcal{Y}$."
   ]
  },
  {
   "cell_type": "markdown",
   "metadata": {
    "slideshow": {
     "slide_type": "fragment"
    }
   },
   "source": [
    "Below, we fit a Softmax model to the Iris dataset."
   ]
  },
  {
   "cell_type": "code",
   "execution_count": 3,
   "metadata": {
    "slideshow": {
     "slide_type": "-"
    }
   },
   "outputs": [],
   "source": [
    "from sklearn.linear_model import LogisticRegression\n",
    "# fit a softmax regression model (implemented in LogisticRegression in sklearn)\n",
    "model = LogisticRegression()\n",
    "model.fit(X,y)\n",
    "y_pred = model.predict(X_holdout)"
   ]
  },
  {
   "cell_type": "markdown",
   "metadata": {
    "slideshow": {
     "slide_type": "slide"
    }
   },
   "source": [
    "# Classification Accuracy\n",
    "\n",
    "The simplest and most natural metric for classification algorithms on a dataset $\\mathcal{D} = \\{(x^{(1)}, y^{(1)}), (x^{(2)}, y^{(2)}), \\ldots, (x^{(n)}, y^{(n)})\\}$ is accuracy:\n",
    "$$\\text{acc}(f) = \\frac{1}{n}\\sum_{i=1}^n \\mathbb{I}\\{f(x^{(i)}) = y^{(i)}\\},$$\n",
    "where $\\mathbb{I}\\{\\cdot\\}$ is an indicator function (equals 1 if its input is true and zero otherwise)."
   ]
  },
  {
   "cell_type": "code",
   "execution_count": 4,
   "metadata": {
    "slideshow": {
     "slide_type": "subslide"
    }
   },
   "outputs": [
    {
     "name": "stdout",
     "output_type": "stream",
     "text": [
      "Iris test set accuracy: 0.84\n"
     ]
    }
   ],
   "source": [
    "accuracy = (y_pred == y_holdout).mean()\n",
    "print('Iris test set accuracy: %.2f' % accuracy)"
   ]
  },
  {
   "cell_type": "markdown",
   "metadata": {
    "slideshow": {
     "slide_type": "slide"
    }
   },
   "source": [
    "# Confusion Matrix\n",
    "\n",
    "We can better understand classification error via a confusion matrix.\n",
    "* On the y-axis we have the true classes $y_j$.\n",
    "* On the x-axis we have the predicted classes $\\hat y_k$.\n",
    "* The cell for $(y_j, \\hat y_k)$ contains the number of samples of class $y_j$ that have been classified as $\\hat y_k$."
   ]
  },
  {
   "cell_type": "code",
   "execution_count": 5,
   "metadata": {
    "scrolled": true,
    "slideshow": {
     "slide_type": "subslide"
    }
   },
   "outputs": [
    {
     "data": {
      "text/plain": [
       "<sklearn.metrics._plot.confusion_matrix.ConfusionMatrixDisplay at 0x14c4390a0>"
      ]
     },
     "execution_count": 5,
     "metadata": {},
     "output_type": "execute_result"
    },
    {
     "data": {
      "image/png": "[encoded data removed]",
      "text/plain": [
       "<Figure size 1200x400 with 2 Axes>"
      ]
     },
     "metadata": {},
     "output_type": "display_data"
    }
   ],
   "source": [
    "from sklearn.metrics import confusion_matrix, ConfusionMatrixDisplay\n",
    "\n",
    "# Compute the predictions\n",
    "y_pred = model.predict(X_holdout)\n",
    "\n",
    "# Compute the confusion matrix\n",
    "cm = confusion_matrix(y_holdout, y_pred)\n",
    "\n",
    "# Display using ConfusionMatrixDisplay\n",
    "disp = ConfusionMatrixDisplay(confusion_matrix=cm)\n",
    "disp.plot()\n"
   ]
  },
  {
   "cell_type": "markdown",
   "metadata": {
    "slideshow": {
     "slide_type": "slide"
    }
   },
   "source": [
    "Accuracy is a problematic metric when classes are imbalanced. \n",
    "\n",
    "It easy to achieve high accuracy just by being accurate on the more frequent class (by always predicting it, for example)."
   ]
  },
  {
   "cell_type": "markdown",
   "metadata": {
    "slideshow": {
     "slide_type": "slide"
    }
   },
   "source": [
    "# Metrics for Binary Classification\n",
    "\n",
    "We can look at performance in a more precise way when we do binary classification. Consider the following confusion matrix.\n",
    "\n",
    "$ $                   | Predicted positive $\\hat y=1$ | Predicted negative $\\hat y=0$\n",
    "---------------------|--------------------------------|------------------------------\n",
    "Positive class $y=1$ | True positive (TP)             | False negative (FN)\n",
    "Negative class $y=0$ | False positive (FP)            | True negative (TN)"
   ]
  },
  {
   "cell_type": "markdown",
   "metadata": {
    "slideshow": {
     "slide_type": "subslide"
    }
   },
   "source": [
    "We can define accuracy as follows:\n",
    "\n",
    "$$\\text{accuracy} = \\frac{\\text{TP} + \\text{TN}}{\\text{TP} + \\text{FP} + \\text{FN} + \\text{TN}}$$\n",
    "\n",
    "This is the number of correct predictions divided by the total number of predictions."
   ]
  },
  {
   "cell_type": "markdown",
   "metadata": {
    "slideshow": {
     "slide_type": "slide"
    }
   },
   "source": [
    "# Sensitivity and Specificity\n",
    "\n",
    "$ $                   | Predicted positive $\\hat y=1$ | Predicted negative $\\hat y=0$\n",
    "---------------------|--------------------------------|------------------------------\n",
    "Positive class $y=1$ | True positive (TP)             | False negative (FN)\n",
    "Negative class $y=0$ | False positive (FP)            | True negative (TN)\n",
    "\n",
    "We can also look at \"accuracy\" on each class separately. This reveals problems with imbalanced classes.\n",
    "\\begin{align*}\n",
    "\\underset{\\text{(recall, true positive rate)}}{\\text{sensitivity}} & = \\frac{\\text{TP}}{\\text{positive class}}  = \\frac{\\text{TP}}{\\text{TP} + \\text{FN}} \\\\\n",
    "\\underset{\\text{(true negative rate)}}{\\text{specificity}} & = \\frac{\\text{TN}}{\\text{negative class}} = \\frac{\\text{TN}}{\\text{TN} + \\text{FP}} \\\\\n",
    "\\end{align*}"
   ]
  },
  {
   "cell_type": "markdown",
   "metadata": {
    "slideshow": {
     "slide_type": "subslide"
    }
   },
   "source": [
    "We can combine these into a single measure called balanced accuracy\n",
    "\n",
    "\\begin{align*}\n",
    "\\text{balanced accuracy} & = \\frac{1}{2}\\left(\\text{specificity} + \\text{sensitivity}\\right) \\\\\n",
    "& = \\frac{1}{2}\\left(\\frac{\\text{TN}}{\\text{TN} + \\text{FP}} + \\frac{\\text{TP}}{\\text{TP} + \\text{FN}}\\right)\n",
    "\\end{align*} "
   ]
  },
  {
   "cell_type": "markdown",
   "metadata": {
    "slideshow": {
     "slide_type": "slide"
    }
   },
   "source": [
    "# Precision and Recall\n",
    "\n",
    "$ $                   | Predicted positive $\\hat y=1$ | Predicted negative $\\hat y=0$\n",
    "---------------------|--------------------------------|------------------------------\n",
    "Positive class $y=1$ | True positive (TP)             | False negative (FN)\n",
    "Negative class $y=0$ | False positive (FP)            | True negative (TN)\n",
    "\n",
    "An alternative set of measures is precision and recall.\n",
    "\\begin{align*}\n",
    "\\underset{\\text{(positive predictive value)}}{\\text{precision}} & = \\frac{\\text{TP}}{\\text{predicted positive}} = \\frac{\\text{TP}}{\\text{TP} + \\text{FP}} \\\\\n",
    "\\underset{\\text{(sensitivity, true positive rate)}}{\\text{recall}} & = \\frac{\\text{TP}}{\\text{positive class}}  = \\frac{\\text{TP}}{\\text{TP} + \\text{FN}}\n",
    "\\end{align*}"
   ]
  },
  {
   "cell_type": "markdown",
   "metadata": {
    "slideshow": {
     "slide_type": "subslide"
    }
   },
   "source": [
    "Imagine we are building a search engine. The positive examples are the pages that are relevant to the users.\n",
    "* Precision: of the web pages returned by the engine, how many were truly relevant?\n",
    "* Recall: how many relevant pages did we find?"
   ]
  },
  {
   "cell_type": "markdown",
   "metadata": {
    "slideshow": {
     "slide_type": "fragment"
    }
   },
   "source": [
    "Notice that we don't directly report performance on negatives (what % of irrelevant pages were labeled as such)."
   ]
  },
  {
   "cell_type": "markdown",
   "metadata": {
    "slideshow": {
     "slide_type": "subslide"
    }
   },
   "source": [
    "When do we choose precision and recall vs. sensitivity and specificity?\n",
    "* Precision and recall are useful if we don't care about true negatives (e.g. a search engine). We only care about identifying correct positives and not missing any."
   ]
  },
  {
   "cell_type": "markdown",
   "metadata": {
    "slideshow": {
     "slide_type": "fragment"
    }
   },
   "source": [
    "* Sensitivity and specificity are useful if negatives are also important (e.g., accurately detecting absence of cancer is also important)."
   ]
  },
  {
   "cell_type": "markdown",
   "metadata": {
    "slideshow": {
     "slide_type": "slide"
    }
   },
   "source": [
    "# F-Score\n",
    "\n",
    "The F-Score is the harmonic mean of precision and recall.\n",
    "$$\\text{F-Score} = \\frac{2}{\\frac{1}{\\text{precision}} + \\frac{1}{\\text{recall}}}$$\n",
    "\n",
    "It equals one at prefect prediction and recall and zero if one of precision or recall is zero."
   ]
  },
  {
   "cell_type": "markdown",
   "metadata": {
    "slideshow": {
     "slide_type": "slide"
    }
   },
   "source": [
    "<left><img width=25% src=\"img/gw_monogram_2c.png\"></left>\n",
    "\n",
    "# Part 3: Advanced Classification Metrics\n",
    "\n",
    "Next, we look a few more advanced classification metrics."
   ]
  },
  {
   "cell_type": "markdown",
   "metadata": {
    "slideshow": {
     "slide_type": "skip"
    }
   },
   "source": [
    "# Review: Classification\n",
    "\n",
    "Consider a training dataset $\\mathcal{D} = \\{(x^{(1)}, y^{(1)}), (x^{(2)}, y^{(2)}), \\ldots, (x^{(n)}, y^{(n)})\\}$.\n",
    "\n",
    "We distinguish between two types of supervised learning problems depnding on the targets $y^{(i)}$. \n",
    "\n",
    "1. __Regression__: The target variable $y \\in \\mathcal{Y}$ is continuous:  $\\mathcal{Y} \\subseteq \\mathbb{R}$.\n",
    "2. __Classification__: The target variable $y$ is discrete, and takes on one of $K$ possible values.\n",
    "\n",
    "When classification labels take $K=2$ values, we perform __binary classification__."
   ]
  },
  {
   "cell_type": "markdown",
   "metadata": {
    "slideshow": {
     "slide_type": "skip"
    }
   },
   "source": [
    "# Review: Sensitivity and Specificity\n",
    "\n",
    "$ $                   | Predicted positive $\\hat y=1$ | Predicted negative $\\hat y=0$\n",
    "---------------------|--------------------------------|------------------------------\n",
    "Positive class $y=1$ | True positive (TP)             | False negative (FN)\n",
    "Negative class $y=0$ | False positive (FP)            | True negative (TN)\n",
    "\n",
    "We can also look at \"accuracy\" on each class separately. This reveals problems with imbalanced classes.\n",
    "\\begin{align*}\n",
    "\\underset{\\text{(recall, true positive rate)}}{\\text{sensitivity}} & = \\frac{\\text{TP}}{\\text{positive class}}  = \\frac{\\text{TP}}{\\text{TP} + \\text{FN}} \\\\\n",
    "\\underset{\\text{(true negative rate)}}{\\text{specificity}} & = \\frac{\\text{TN}}{\\text{negative class}} = \\frac{\\text{TN}}{\\text{TN} + \\text{FP}} \\\\\n",
    "\\end{align*}"
   ]
  },
  {
   "cell_type": "markdown",
   "metadata": {
    "slideshow": {
     "slide_type": "slide"
    }
   },
   "source": [
    "# Trading Off Sensitivity vs. Specificity\n",
    "\n",
    "Suppose that true positives are more important than true negatives.\n",
    "* We may output the positive class only on very confident examples.\n",
    "* This will increase performance on positive examples and decrease performance on negative examples.\n",
    "\n",
    "Most classifiers come with confidence scores that make this easy to do."
   ]
  },
  {
   "cell_type": "markdown",
   "metadata": {
    "slideshow": {
     "slide_type": "subslide"
    }
   },
   "source": [
    "With our softmax model, we can simpliy obtain the class probabilities.\n",
    "\n",
    "The default threshold for predicting class 1 in binary classification is when it has >50\\% probability. But we can set it higher or lower."
   ]
  },
  {
   "cell_type": "code",
   "execution_count": 6,
   "metadata": {
    "slideshow": {
     "slide_type": "-"
    }
   },
   "outputs": [
    {
     "name": "stdout",
     "output_type": "stream",
     "text": [
      "Predicted probabilities of class 0 from the model:\n",
      "[0.90500627 0.1628024  0.26248388 0.91899931 0.05452794 0.98241773\n",
      " 0.90444375 0.87543531 0.83226506 0.12415388]\n"
     ]
    }
   ],
   "source": [
    "pred_probabilities = model.predict_proba(X_holdout)\n",
    "print('Predicted probabilities of class 0 from the model:')\n",
    "print(pred_probabilities[:10,0])"
   ]
  },
  {
   "cell_type": "markdown",
   "metadata": {
    "slideshow": {
     "slide_type": "slide"
    }
   },
   "source": [
    "# Receiver Operating Characteristic (ROC)\n",
    "\n",
    "In binary classification, the Receiver Operating Characteristic (ROC) curve plots the true positive rate and the false positive rate (FPR) as we vary the threshold for labeling a positive example.\n",
    "\n",
    "\\begin{align*}\n",
    "\\text{TPR} = \\underset{\\text{(recall, sensitivity)}}{\\text{true positive rate}} & = \\frac{\\text{TP}}{\\text{positive class}}  = \\frac{\\text{TP}}{\\text{TP} + \\text{FN}} \\\\\n",
    "\\text{FPR} = 1-\\underset{\\text{(true negative rate)}}{\\text{specificity}} & = 1 - \\frac{\\text{TN}}{\\text{negative class}} = \\frac{\\text{FP}}{\\text{TN} + \\text{FP}} \\\\\n",
    "\\end{align*}"
   ]
  },
  {
   "cell_type": "markdown",
   "metadata": {
    "slideshow": {
     "slide_type": "skip"
    }
   },
   "source": [
    "Suppose we want to improve sensitivity for Class 2 on the Iris dataset.\n",
    "We first compute the probability $p(y=2|x)$ for each input $x$. For any threshold $t>0$, we label $x$ as Class 2 if $p(y=2|x)>t$. \n",
    "* Small $t$ result in a high TPR (we identify all positives) and high FPR (many are false).\n",
    "* High $t$ result in a low TPR (we identify few positives) and low FPR (we only label the most confident inputs)."
   ]
  },
  {
   "cell_type": "markdown",
   "metadata": {
    "slideshow": {
     "slide_type": "subslide"
    }
   },
   "source": [
    "Below, the ROC curve measures the TPR and FPR as we vary $t$."
   ]
  },
  {
   "cell_type": "code",
   "execution_count": 7,
   "metadata": {
    "slideshow": {
     "slide_type": "fragment"
    }
   },
   "outputs": [
    {
     "name": "stdout",
     "output_type": "stream",
     "text": [
      "First class 2 scores:  [0.02495207 0.15064683 0.17470687 0.00545101]\n"
     ]
    }
   ],
   "source": [
    "from sklearn.metrics import roc_curve\n",
    "\n",
    "class2_scores = pred_probabilities[:,2] # we take class 2 as the \"positive\" class\n",
    "# create labels where class 2 is the \"positive\" class\n",
    "class2_y = np.zeros(y_holdout.shape)\n",
    "class2_y[y_holdout==2] = 1\n",
    "print('First class 2 scores: ', class2_scores[:4])\n",
    "fpr, tpr, thresholds = roc_curve(class2_y, class2_scores)"
   ]
  },
  {
   "cell_type": "markdown",
   "metadata": {
    "slideshow": {
     "slide_type": "subslide"
    }
   },
   "source": [
    "We can visualize the TPR vs. the FPR at various thresholds."
   ]
  },
  {
   "cell_type": "code",
   "execution_count": 8,
   "metadata": {
    "slideshow": {
     "slide_type": "slide"
    }
   },
   "outputs": [
    {
     "data": {
      "text/plain": [
       "Text(0.5, 1.0, 'Receiver operating characteristic')"
      ]
     },
     "execution_count": 8,
     "metadata": {},
     "output_type": "execute_result"
    },
    {
     "data": {
      "image/png": "[encoded data removed]",
      "text/plain": [
       "<Figure size 600x600 with 1 Axes>"
      ]
     },
     "metadata": {},
     "output_type": "display_data"
    }
   ],
   "source": [
    "plt.figure(figsize=(6,6))\n",
    "plt.plot(fpr, tpr, color='darkorange')\n",
    "plt.plot([0, 1], [0, 1], color='navy', linestyle='--')\n",
    "plt.xlim([0.0, 1.0])\n",
    "plt.ylim([0.0, 1.05])\n",
    "plt.xlabel('False Positive Rate')\n",
    "plt.ylabel('True Positive Rate')\n",
    "plt.title('Receiver operating characteristic')"
   ]
  },
  {
   "cell_type": "markdown",
   "metadata": {
    "slideshow": {
     "slide_type": "subslide"
    }
   },
   "source": [
    "We highlight the following properties of the ROC curve:\n",
    "* In the bottom left corner, we predict only negatives. TPR = FPR = 0.\n",
    "* In the top right corner, we predict only positives. TPR = FPR = 1.\n",
    "* The ideal classifier is in the top left: TPR = 1, FPR = 0.\n",
    "* The blue diagonal corresponds to randomly guessing \"positive\" with $p = \\text{TPR}$.\n",
    "* The ROC curve lies between ideal and random."
   ]
  },
  {
   "cell_type": "markdown",
   "metadata": {
    "slideshow": {
     "slide_type": "slide"
    }
   },
   "source": [
    "# Area Under the Curve\n",
    "\n",
    "We can use the area under the curve (AUC) as a single measure of classifier performance.\n",
    "* The ideal classifier (ROC curve reaches top left corner) has an AUC-ROC of one.\n",
    "* A random classifier (diagonal dashed line) has an AUC-ROC of 0.5."
   ]
  },
  {
   "cell_type": "markdown",
   "metadata": {
    "slideshow": {
     "slide_type": "subslide"
    }
   },
   "source": [
    "We may compute the AUC of the above ROC curve as follows."
   ]
  },
  {
   "cell_type": "code",
   "execution_count": 9,
   "metadata": {
    "slideshow": {
     "slide_type": "-"
    }
   },
   "outputs": [
    {
     "name": "stdout",
     "output_type": "stream",
     "text": [
      "AUC-ROC: 0.8555\n"
     ]
    }
   ],
   "source": [
    "from sklearn.metrics import auc\n",
    "print('AUC-ROC: %.4f' % auc(fpr, tpr))"
   ]
  },
  {
   "cell_type": "markdown",
   "metadata": {
    "slideshow": {
     "slide_type": "slide"
    }
   },
   "source": [
    "# Multi-Class Generalizations\n",
    "\n",
    "We can also define sensitivity, specificity, and other metrics for each class in multi-class classification.\n",
    "* We define each class in turn to be \"positive\" ($y=1$) and all other classes as negative ($y=0$).\n",
    "* We compute sensitivity and specificity for each \"positive\" class using the usual formulas."
   ]
  },
  {
   "cell_type": "markdown",
   "metadata": {
    "slideshow": {
     "slide_type": "slide"
    }
   },
   "source": [
    "In multi-class settings, we average binary metrics in various ways:\n",
    "* `macro`: We average binary one-vs-all metrics for each class.\n",
    "$$\\text{precision}_\\text{macro} = \\frac{1}{K} \\sum_{k=1}^K \\frac{\\text{TP}_k}{\\text{TP}_k + \\text{FP}_k}$$\n",
    "* `micro`: We average binary metrics across classes.\n",
    "$$\\text{precision}_\\text{micro} = \\frac{\\sum_{k=1}^K \\text{TP}_k}{\\sum_{k=1}^K (\\text{TP}_k + \\text{FP}_k)}$$\n",
    "\n",
    "See the `scikit-learn` [guide](https://scikit-learn.org/stable/modules/model_evaluation.html) for more on model evaluation."
   ]
  },
  {
   "cell_type": "code",
   "execution_count": 10,
   "metadata": {
    "slideshow": {
     "slide_type": "slide"
    }
   },
   "outputs": [
    {
     "name": "stdout",
     "output_type": "stream",
     "text": [
      "              precision    recall  f1-score   support\n",
      "\n",
      "      Setosa       0.95      1.00      0.97        19\n",
      "  Versicolor       0.79      0.92      0.85        24\n",
      "   Virginica       0.50      0.14      0.22         7\n",
      "\n",
      "    accuracy                           0.84        50\n",
      "   macro avg       0.75      0.69      0.68        50\n",
      "weighted avg       0.81      0.84      0.81        50\n",
      "\n"
     ]
    }
   ],
   "source": [
    "from sklearn.metrics import classification_report\n",
    "print(classification_report(y_holdout, y_pred, target_names=['Setosa', 'Versicolor', 'Virginica']))"
   ]
  },
  {
   "cell_type": "markdown",
   "metadata": {
    "slideshow": {
     "slide_type": "slide"
    }
   },
   "source": [
    "<left><img width=25% src=\"img/gw_monogram_2c.png\"></left>\n",
    "# Part 4: Evaluating Regression Models\n",
    "\n",
    "The first step towards building better ML models is to determine how to *evaluate* them.\n",
    "\n",
    "Next, we look at regression models."
   ]
  },
  {
   "cell_type": "markdown",
   "metadata": {
    "slideshow": {
     "slide_type": "slide"
    }
   },
   "source": [
    "# Review: Regression\n",
    "\n",
    "Consider a training dataset $\\mathcal{D} = \\{(x^{(1)}, y^{(1)}), (x^{(2)}, y^{(2)}), \\ldots, (x^{(n)}, y^{(n)})\\}$.\n",
    "\n",
    "We distinguish between two types of supervised learning problems depnding on the targets $y^{(i)}$. \n",
    "\n",
    "1. __Regression__: The target variable $y \\in \\mathcal{Y}$ is continuous:  $\\mathcal{Y} \\subseteq \\mathbb{R}$.\n",
    "2. __Classification__: The target variable $y$ is discrete, and takes on one of $K$ possible values."
   ]
  },
  {
   "cell_type": "markdown",
   "metadata": {
    "slideshow": {
     "slide_type": "skip"
    }
   },
   "source": [
    "# Review: Machine Learning Models\n",
    "\n",
    "A machine learning model is a function\n",
    "$$ f : \\mathcal{X} \\to \\mathcal{Y} $$\n",
    "that maps inputs $x \\in \\mathcal{X}$ to targets $y \\in \\mathcal{Y}$."
   ]
  },
  {
   "cell_type": "markdown",
   "metadata": {
    "slideshow": {
     "slide_type": "slide"
    }
   },
   "source": [
    "# Regression Losses\n",
    "\n",
    "Most standard regression losses can be used as evaluation metrics.\n",
    "* Mean squared error: $$\\frac{1}{2n} \\sum_{i=1}^n \\left( f(x^{(i)}) - y^{(i)} \\right)^2$$\n",
    "* Absolute (L1) error: $$\\frac{1}{n} \\sum_{i=1}^n \\left| f(x^{(i)}) - y^{(i)} \\right|$$"
   ]
  },
  {
   "cell_type": "code",
   "execution_count": 11,
   "metadata": {
    "slideshow": {
     "slide_type": "subslide"
    }
   },
   "outputs": [
    {
     "name": "stdout",
     "output_type": "stream",
     "text": [
      "Mean squared error: 1.50\n",
      "Mean absolute error: 1.00\n"
     ]
    }
   ],
   "source": [
    "from sklearn.metrics import mean_squared_error, mean_absolute_error\n",
    "\n",
    "y1 = np.array([1, 2, 3, 4])\n",
    "y2 = np.array([-1, 1, 3, 5])\n",
    "\n",
    "print('Mean squared error: %.2f' % mean_squared_error(y1, y2))\n",
    "print('Mean absolute error: %.2f' % mean_absolute_error(y1, y2))"
   ]
  },
  {
   "cell_type": "markdown",
   "metadata": {
    "slideshow": {
     "slide_type": "subslide"
    }
   },
   "source": [
    "These metrics have a number of limitations:\n",
    "* They do not take the scale of the input into account. The same magnitude of the error has different implications depending on whether $y^{(i)} = 100$ or $y^{(i)} = 10$.\n",
    "* They are not easily interpretable. It's unclear if an L1 error of 10 is very good or very bad."
   ]
  },
  {
   "cell_type": "markdown",
   "metadata": {
    "slideshow": {
     "slide_type": "slide"
    }
   },
   "source": [
    "# Scaled Losses\n",
    "\n",
    "To account for differences in scale, we may work with *scaled* losses:\n",
    "* Mean absolute percent error (MAPE):\n",
    "$$\\frac{1}{n} \\sum_{i=1}^n \\frac{\\left| f(x^{(i)}) - y^{(i)} \\right|}{|y^{(i)}|}$$\n",
    "* Symmetric mean absolute percent error (SMAPE):\n",
    "$$\\frac{1}{n} \\sum_{i=1}^n \\frac{\\left| f(x^{(i)}) - y^{(i)} \\right|}{\\left(|y^{(i)}| + |f(x^{(i)})|\\right)/2}$$\n",
    "\n",
    "The SMAPE allows either $y^{(i)}$ or $f(x^{(i)})$ to be small (or zero)."
   ]
  },
  {
   "cell_type": "markdown",
   "metadata": {
    "slideshow": {
     "slide_type": "slide"
    }
   },
   "source": [
    "# Scaled Logarithmic Losses\n",
    "\n",
    "Another way to account for error in $f(x^{(i)})$ relative to $y^{(i)}$ is by taking the log of both values. This puts them on the same scale.\n",
    "$$\\frac{1}{n} \\sum_{i=1}^n \\left| \\log(1 + y^{(i)}) - \\log(1 + f(x^{(i)})) \\right|$$\n",
    "This is called the mean absolute logarithmic error (MALE)."
   ]
  },
  {
   "cell_type": "markdown",
   "metadata": {
    "slideshow": {
     "slide_type": "slide"
    }
   },
   "source": [
    "# The Coefficient of Determination\n",
    "\n",
    "The coefficient of determination, usually denoted by $R^2$, measures the accuracy of the predictions, relative to constantly predicting the average $\\bar y = \\frac{1}{n}\\sum_{i=1}^n y^{(i)}$:\n",
    "$$R^2 = 1 - \\left(\\frac{\\sum_{i=1}^n \\left( f(x^{(i)}) - y^{(i)} \\right)^2}{\\sum_{i=1}^n \\left( \\bar y - y^{(i)} \\right)^2}\\right).$$\n",
    "\n",
    "An $R^2$ of one corresponds to perfect accuracy. An $R^2$ of zero means that $f$ is not better than the average prediction."
   ]
  }
 ],
 "metadata": {
  "accelerator": "GPU",
  "celltoolbar": "Slideshow",
  "colab": {
   "collapsed_sections": [],
   "name": "neural-ode.ipynb",
   "provenance": []
  },
  "kernelspec": {
   "display_name": "Python [conda env:gw] *",
   "language": "python",
   "name": "conda-env-gw-py"
  },
  "language_info": {
   "codemirror_mode": {
    "name": "ipython",
    "version": 3
   },
   "file_extension": ".py",
   "mimetype": "text/x-python",
   "name": "python",
   "nbconvert_exporter": "python",
   "pygments_lexer": "ipython3",
   "version": "3.8.18"
  },
  "rise": {
   "controlsTutorial": false,
   "height": 900,
   "help": false,
   "margin": 0,
   "maxScale": 2,
   "minScale": 0.2,
   "progress": true,
   "scroll": true,
   "theme": "simple",
   "width": 1200
  }
 },
 "nbformat": 4,
 "nbformat_minor": 1
}
